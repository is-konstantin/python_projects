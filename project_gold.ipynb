{
 "cells": [
  {
   "cell_type": "markdown",
   "metadata": {},
   "source": [
    "# Описание проекта\n",
    "\n",
    "Подготовьте прототип модели машинного обучения для «Цифры». Компания разрабатывает решения для эффективной работы промышленных предприятий.\n",
    "\n",
    "Модель должна предсказать коэффициент восстановления золота из золотосодержащей руды. В вашем распоряжении данные с параметрами добычи и очистки. \n",
    "\n",
    "Модель поможет оптимизировать производство, чтобы не запускать предприятие с убыточными характеристиками.\n",
    "\n",
    "Вам нужно:\n",
    "\n",
    "1. Подготовить данные;\n",
    "2. Провести исследовательский анализ данных;\n",
    "3. Построить и обучить модель.\n"
   ]
  },
  {
   "cell_type": "markdown",
   "metadata": {},
   "source": [
    "# 1. Подготовка данных"
   ]
  },
  {
   "cell_type": "code",
   "execution_count": 1,
   "metadata": {},
   "outputs": [],
   "source": [
    "import pandas as pd\n",
    "from sklearn.metrics import mean_absolute_error\n",
    "import numpy as np\n",
    "import matplotlib.pyplot as plt\n",
    "from sklearn.linear_model import LinearRegression\n",
    "from sklearn.linear_model import LogisticRegression\n",
    "from sklearn.ensemble import RandomForestClassifier\n",
    "from sklearn.tree import DecisionTreeClassifier\n",
    "from sklearn.model_selection import cross_val_score\n",
    "from sklearn.preprocessing import OrdinalEncoder"
   ]
  },
  {
   "cell_type": "code",
   "execution_count": null,
   "metadata": {},
   "outputs": [],
   "source": [
    "\n",
    "\n",
    "data_train = data_train.dropna()\n",
    "\n",
    "rougher_output = data_train['rougher.output.recovery']\n",
    "\n",
    "#data_train['rougher.output.recovery'].head()\n",
    "print(data_train['rougher.output.recovery'].isna().sum())\n",
    "#print(data_train['rougher.output.tail_au'].isna().sum())\n"
   ]
  },
  {
   "cell_type": "code",
   "execution_count": 3,
   "metadata": {},
   "outputs": [],
   "source": [
    "\n",
    "data_test.head()\n"
   ]
  },
  {
   "cell_type": "code",
   "execution_count": 4,
   "metadata": {},
   "outputs": [],
   "source": [
    "\n",
    "data_full.head()\n"
   ]
  },
  {
   "cell_type": "markdown",
   "metadata": {},
   "source": [
    "Здесь я добавил требуемые библиотеки и сделал вычитку данных из файлов, а также удалил пропущенные значения на тренеровочной выборке."
   ]
  },
  {
   "cell_type": "code",
   "execution_count": 6,
   "metadata": {},
   "outputs": [
    {
     "name": "stdout",
     "output_type": "stream",
     "text": [
      "0\n",
      "(11017,)\n",
      "(11017,)\n"
     ]
    }
   ],
   "source": [
    "\n",
    "rougher_output_recovery_train = ( data_train['rougher.output.concentrate_au'] * ( data_train['rougher.input.feed_au'] - data_train['rougher.output.tail_au'] ) ) / ( data_train['rougher.input.feed_au'] * ( data_train['rougher.output.concentrate_au'] - data_train['rougher.output.tail_au'] )  ) * 100\n",
    "\n",
    "\n",
    "rougher_output_recovery_train = rougher_output_recovery_train.replace([np.inf, -np.inf], np.nan)\n",
    "\n",
    "\n",
    "\n",
    "rougher_output_recovery_train = pd.Series(rougher_output_recovery_train)\n",
    "\n",
    "\n",
    "\n",
    "rougher_output_recovery_train = rougher_output_recovery_train.dropna()\n",
    "\n",
    "\n",
    "print(rougher_output_recovery_train.isna().sum())\n",
    "\n",
    "\n",
    "\n",
    "print(rougher_output.shape)\n",
    "print(rougher_output_recovery_train.shape)"
   ]
  },
  {
   "cell_type": "markdown",
   "metadata": {},
   "source": [
    "На данном этапе я избавлялся от пропусков в rougher_output_recovery_train"
   ]
  },
  {
   "cell_type": "code",
   "execution_count": 7,
   "metadata": {},
   "outputs": [
    {
     "name": "stdout",
     "output_type": "stream",
     "text": [
      " MAE между расчетами : 9.555596961987514e-15\n"
     ]
    }
   ],
   "source": [
    "\n",
    "mae =  mean_absolute_error(rougher_output, rougher_output_recovery_train)\n",
    "\n",
    "print(' MAE между расчетами :', mae )\n",
    "\n"
   ]
  },
  {
   "cell_type": "markdown",
   "metadata": {},
   "source": [
    "После замены пропусков на средние значения значение показателя MAE стало 9.555596961987514e-15"
   ]
  },
  {
   "cell_type": "code",
   "execution_count": 7,
   "metadata": {},
   "outputs": [
    {
     "name": "stdout",
     "output_type": "stream",
     "text": [
      "<class 'pandas.core.frame.DataFrame'>\n",
      "RangeIndex: 16860 entries, 0 to 16859\n",
      "Data columns (total 87 columns):\n",
      "date                                                  16860 non-null object\n",
      "final.output.concentrate_ag                           16788 non-null float64\n",
      "final.output.concentrate_pb                           16788 non-null float64\n",
      "final.output.concentrate_sol                          16490 non-null float64\n",
      "final.output.concentrate_au                           16789 non-null float64\n",
      "final.output.recovery                                 15339 non-null float64\n",
      "final.output.tail_ag                                  16794 non-null float64\n",
      "final.output.tail_pb                                  16677 non-null float64\n",
      "final.output.tail_sol                                 16715 non-null float64\n",
      "final.output.tail_au                                  16794 non-null float64\n",
      "primary_cleaner.input.sulfate                         15553 non-null float64\n",
      "primary_cleaner.input.depressant                      15598 non-null float64\n",
      "primary_cleaner.input.feed_size                       16860 non-null float64\n",
      "primary_cleaner.input.xanthate                        15875 non-null float64\n",
      "primary_cleaner.output.concentrate_ag                 16778 non-null float64\n",
      "primary_cleaner.output.concentrate_pb                 16502 non-null float64\n",
      "primary_cleaner.output.concentrate_sol                16224 non-null float64\n",
      "primary_cleaner.output.concentrate_au                 16778 non-null float64\n",
      "primary_cleaner.output.tail_ag                        16777 non-null float64\n",
      "primary_cleaner.output.tail_pb                        16761 non-null float64\n",
      "primary_cleaner.output.tail_sol                       16579 non-null float64\n",
      "primary_cleaner.output.tail_au                        16777 non-null float64\n",
      "primary_cleaner.state.floatbank8_a_air                16820 non-null float64\n",
      "primary_cleaner.state.floatbank8_a_level              16827 non-null float64\n",
      "primary_cleaner.state.floatbank8_b_air                16820 non-null float64\n",
      "primary_cleaner.state.floatbank8_b_level              16833 non-null float64\n",
      "primary_cleaner.state.floatbank8_c_air                16822 non-null float64\n",
      "primary_cleaner.state.floatbank8_c_level              16833 non-null float64\n",
      "primary_cleaner.state.floatbank8_d_air                16821 non-null float64\n",
      "primary_cleaner.state.floatbank8_d_level              16833 non-null float64\n",
      "rougher.calculation.sulfate_to_au_concentrate         16833 non-null float64\n",
      "rougher.calculation.floatbank10_sulfate_to_au_feed    16833 non-null float64\n",
      "rougher.calculation.floatbank11_sulfate_to_au_feed    16833 non-null float64\n",
      "rougher.calculation.au_pb_ratio                       15618 non-null float64\n",
      "rougher.input.feed_ag                                 16778 non-null float64\n",
      "rougher.input.feed_pb                                 16632 non-null float64\n",
      "rougher.input.feed_rate                               16347 non-null float64\n",
      "rougher.input.feed_size                               16443 non-null float64\n",
      "rougher.input.feed_sol                                16568 non-null float64\n",
      "rougher.input.feed_au                                 16860 non-null float64\n",
      "rougher.input.floatbank10_sulfate                     15816 non-null float64\n",
      "rougher.input.floatbank10_xanthate                    16514 non-null float64\n",
      "rougher.input.floatbank11_sulfate                     16237 non-null float64\n",
      "rougher.input.floatbank11_xanthate                    14956 non-null float64\n",
      "rougher.output.concentrate_ag                         16778 non-null float64\n",
      "rougher.output.concentrate_pb                         16778 non-null float64\n",
      "rougher.output.concentrate_sol                        16698 non-null float64\n",
      "rougher.output.concentrate_au                         16860 non-null float64\n",
      "rougher.output.recovery                               16860 non-null float64\n",
      "rougher.output.tail_ag                                14610 non-null float64\n",
      "rougher.output.tail_pb                                16778 non-null float64\n",
      "rougher.output.tail_sol                               14611 non-null float64\n",
      "rougher.output.tail_au                                16860 non-null float64\n",
      "rougher.state.floatbank10_a_air                       16807 non-null float64\n",
      "rougher.state.floatbank10_a_level                     16807 non-null float64\n",
      "rougher.state.floatbank10_b_air                       16807 non-null float64\n",
      "rougher.state.floatbank10_b_level                     16807 non-null float64\n",
      "rougher.state.floatbank10_c_air                       16807 non-null float64\n",
      "rougher.state.floatbank10_c_level                     16814 non-null float64\n",
      "rougher.state.floatbank10_d_air                       16802 non-null float64\n",
      "rougher.state.floatbank10_d_level                     16809 non-null float64\n",
      "rougher.state.floatbank10_e_air                       16257 non-null float64\n",
      "rougher.state.floatbank10_e_level                     16809 non-null float64\n",
      "rougher.state.floatbank10_f_air                       16802 non-null float64\n",
      "rougher.state.floatbank10_f_level                     16802 non-null float64\n",
      "secondary_cleaner.output.tail_ag                      16776 non-null float64\n",
      "secondary_cleaner.output.tail_pb                      16764 non-null float64\n",
      "secondary_cleaner.output.tail_sol                     14874 non-null float64\n",
      "secondary_cleaner.output.tail_au                      16778 non-null float64\n",
      "secondary_cleaner.state.floatbank2_a_air              16497 non-null float64\n",
      "secondary_cleaner.state.floatbank2_a_level            16751 non-null float64\n",
      "secondary_cleaner.state.floatbank2_b_air              16705 non-null float64\n",
      "secondary_cleaner.state.floatbank2_b_level            16748 non-null float64\n",
      "secondary_cleaner.state.floatbank3_a_air              16763 non-null float64\n",
      "secondary_cleaner.state.floatbank3_a_level            16747 non-null float64\n",
      "secondary_cleaner.state.floatbank3_b_air              16752 non-null float64\n",
      "secondary_cleaner.state.floatbank3_b_level            16750 non-null float64\n",
      "secondary_cleaner.state.floatbank4_a_air              16731 non-null float64\n",
      "secondary_cleaner.state.floatbank4_a_level            16747 non-null float64\n",
      "secondary_cleaner.state.floatbank4_b_air              16768 non-null float64\n",
      "secondary_cleaner.state.floatbank4_b_level            16767 non-null float64\n",
      "secondary_cleaner.state.floatbank5_a_air              16775 non-null float64\n",
      "secondary_cleaner.state.floatbank5_a_level            16775 non-null float64\n",
      "secondary_cleaner.state.floatbank5_b_air              16775 non-null float64\n",
      "secondary_cleaner.state.floatbank5_b_level            16776 non-null float64\n",
      "secondary_cleaner.state.floatbank6_a_air              16757 non-null float64\n",
      "secondary_cleaner.state.floatbank6_a_level            16775 non-null float64\n",
      "dtypes: float64(86), object(1)\n",
      "memory usage: 11.2+ MB\n"
     ]
    }
   ],
   "source": [
    "\n",
    "data_train.info()\n"
   ]
  },
  {
   "cell_type": "code",
   "execution_count": 8,
   "metadata": {},
   "outputs": [
    {
     "name": "stdout",
     "output_type": "stream",
     "text": [
      "<class 'pandas.core.frame.DataFrame'>\n",
      "RangeIndex: 5856 entries, 0 to 5855\n",
      "Data columns (total 53 columns):\n",
      "date                                          5856 non-null object\n",
      "primary_cleaner.input.sulfate                 5554 non-null float64\n",
      "primary_cleaner.input.depressant              5572 non-null float64\n",
      "primary_cleaner.input.feed_size               5856 non-null float64\n",
      "primary_cleaner.input.xanthate                5690 non-null float64\n",
      "primary_cleaner.state.floatbank8_a_air        5840 non-null float64\n",
      "primary_cleaner.state.floatbank8_a_level      5840 non-null float64\n",
      "primary_cleaner.state.floatbank8_b_air        5840 non-null float64\n",
      "primary_cleaner.state.floatbank8_b_level      5840 non-null float64\n",
      "primary_cleaner.state.floatbank8_c_air        5840 non-null float64\n",
      "primary_cleaner.state.floatbank8_c_level      5840 non-null float64\n",
      "primary_cleaner.state.floatbank8_d_air        5840 non-null float64\n",
      "primary_cleaner.state.floatbank8_d_level      5840 non-null float64\n",
      "rougher.input.feed_ag                         5840 non-null float64\n",
      "rougher.input.feed_pb                         5840 non-null float64\n",
      "rougher.input.feed_rate                       5816 non-null float64\n",
      "rougher.input.feed_size                       5834 non-null float64\n",
      "rougher.input.feed_sol                        5789 non-null float64\n",
      "rougher.input.feed_au                         5840 non-null float64\n",
      "rougher.input.floatbank10_sulfate             5599 non-null float64\n",
      "rougher.input.floatbank10_xanthate            5733 non-null float64\n",
      "rougher.input.floatbank11_sulfate             5801 non-null float64\n",
      "rougher.input.floatbank11_xanthate            5503 non-null float64\n",
      "rougher.state.floatbank10_a_air               5839 non-null float64\n",
      "rougher.state.floatbank10_a_level             5840 non-null float64\n",
      "rougher.state.floatbank10_b_air               5839 non-null float64\n",
      "rougher.state.floatbank10_b_level             5840 non-null float64\n",
      "rougher.state.floatbank10_c_air               5839 non-null float64\n",
      "rougher.state.floatbank10_c_level             5840 non-null float64\n",
      "rougher.state.floatbank10_d_air               5839 non-null float64\n",
      "rougher.state.floatbank10_d_level             5840 non-null float64\n",
      "rougher.state.floatbank10_e_air               5839 non-null float64\n",
      "rougher.state.floatbank10_e_level             5840 non-null float64\n",
      "rougher.state.floatbank10_f_air               5839 non-null float64\n",
      "rougher.state.floatbank10_f_level             5840 non-null float64\n",
      "secondary_cleaner.state.floatbank2_a_air      5836 non-null float64\n",
      "secondary_cleaner.state.floatbank2_a_level    5840 non-null float64\n",
      "secondary_cleaner.state.floatbank2_b_air      5833 non-null float64\n",
      "secondary_cleaner.state.floatbank2_b_level    5840 non-null float64\n",
      "secondary_cleaner.state.floatbank3_a_air      5822 non-null float64\n",
      "secondary_cleaner.state.floatbank3_a_level    5840 non-null float64\n",
      "secondary_cleaner.state.floatbank3_b_air      5840 non-null float64\n",
      "secondary_cleaner.state.floatbank3_b_level    5840 non-null float64\n",
      "secondary_cleaner.state.floatbank4_a_air      5840 non-null float64\n",
      "secondary_cleaner.state.floatbank4_a_level    5840 non-null float64\n",
      "secondary_cleaner.state.floatbank4_b_air      5840 non-null float64\n",
      "secondary_cleaner.state.floatbank4_b_level    5840 non-null float64\n",
      "secondary_cleaner.state.floatbank5_a_air      5840 non-null float64\n",
      "secondary_cleaner.state.floatbank5_a_level    5840 non-null float64\n",
      "secondary_cleaner.state.floatbank5_b_air      5840 non-null float64\n",
      "secondary_cleaner.state.floatbank5_b_level    5840 non-null float64\n",
      "secondary_cleaner.state.floatbank6_a_air      5840 non-null float64\n",
      "secondary_cleaner.state.floatbank6_a_level    5840 non-null float64\n",
      "dtypes: float64(52), object(1)\n",
      "memory usage: 2.4+ MB\n"
     ]
    }
   ],
   "source": [
    "data_test.info()"
   ]
  },
  {
   "cell_type": "code",
   "execution_count": 9,
   "metadata": {},
   "outputs": [],
   "source": [
    "data_train = data_train.fillna(data_train.mean())\n",
    "data_test = data_test.fillna(data_test.mean())"
   ]
  },
  {
   "cell_type": "markdown",
   "metadata": {},
   "source": [
    "На данном этапе я делаю вычитку данных из файлов, заполняю пропуски в данных средними значениями, рассчитываю по показателям эффективность обогащения и нахожу метрику MAE между моими расчетами и данными в таблице, а также смотрю и сравниваю список столбцов тренировочной и тестовой выборками."
   ]
  },
  {
   "cell_type": "markdown",
   "metadata": {},
   "source": [
    "# 2. Анализ данных"
   ]
  },
  {
   "cell_type": "code",
   "execution_count": 10,
   "metadata": {},
   "outputs": [
    {
     "data": {
      "text/plain": [
       "<matplotlib.axes._subplots.AxesSubplot at 0x7eff3a5129e8>"
      ]
     },
     "execution_count": 10,
     "metadata": {},
     "output_type": "execute_result"
    },
    {
     "data": {
      "image/png": "[encoded data removed]",
      "text/plain": [
       "<Figure size 432x288 with 1 Axes>"
      ]
     },
     "metadata": {
      "needs_background": "light"
     },
     "output_type": "display_data"
    }
   ],
   "source": [
    "data_full['rougher.output.concentrate_au'].plot(kind = 'hist', label = 'rougher.output.concentrate_au', grid=True, legend=True)\n",
    "data_full['primary_cleaner.output.concentrate_au'].plot(kind='hist' , label='primary_cleaner.output.concentrate_au', grid=True, legend=True)\n",
    "data_full['final.output.concentrate_au'].plot(kind='hist', label='final.output.concentrate_au', grid=True, legend=True)\n",
    "\n",
    "\n"
   ]
  },
  {
   "cell_type": "code",
   "execution_count": 11,
   "metadata": {},
   "outputs": [
    {
     "data": {
      "text/plain": [
       "<matplotlib.axes._subplots.AxesSubplot at 0x7eff3a448c50>"
      ]
     },
     "execution_count": 11,
     "metadata": {},
     "output_type": "execute_result"
    },
    {
     "data": {
      "image/png": "[encoded data removed]",
      "text/plain": [
       "<Figure size 432x288 with 1 Axes>"
      ]
     },
     "metadata": {
      "needs_background": "light"
     },
     "output_type": "display_data"
    }
   ],
   "source": [
    "data_full['rougher.output.concentrate_ag'].plot(kind = 'hist', label = 'rougher.output.concentrate_ag', grid=True, legend=True)\n",
    "data_full['primary_cleaner.output.concentrate_ag'].plot(kind='hist' , label='primary_cleaner.output.concentrate_ag', grid=True, legend=True)\n",
    "data_full['final.output.concentrate_ag'].plot(kind='hist', label='final.output.concentrate_ag', grid=True, legend=True)\n",
    "\n",
    "\n"
   ]
  },
  {
   "cell_type": "code",
   "execution_count": 12,
   "metadata": {},
   "outputs": [
    {
     "data": {
      "text/plain": [
       "<matplotlib.axes._subplots.AxesSubplot at 0x7eff3a1b6358>"
      ]
     },
     "execution_count": 12,
     "metadata": {},
     "output_type": "execute_result"
    },
    {
     "data": {
      "image/png": "[encoded data removed]",
      "text/plain": [
       "<Figure size 432x288 with 1 Axes>"
      ]
     },
     "metadata": {
      "needs_background": "light"
     },
     "output_type": "display_data"
    }
   ],
   "source": [
    "data_full['rougher.output.concentrate_pb'].plot(kind = 'hist', label = 'rougher.output.concentrate_pb', grid=True, legend=True)\n",
    "data_full['primary_cleaner.output.concentrate_pb'].plot(kind='hist' , label='primary_cleaner.output.concentrate_pb', grid=True, legend=True)\n",
    "data_full['final.output.concentrate_pb'].plot(kind='hist', label='final.output.concentrate_pb', grid=True, legend=True)\n",
    "\n",
    "\n"
   ]
  },
  {
   "cell_type": "code",
   "execution_count": 13,
   "metadata": {},
   "outputs": [
    {
     "data": {
      "text/plain": [
       "<matplotlib.axes._subplots.AxesSubplot at 0x7eff39b18a90>"
      ]
     },
     "execution_count": 13,
     "metadata": {},
     "output_type": "execute_result"
    },
    {
     "data": {
      "image/png": "[encoded data removed]",
      "text/plain": [
       "<Figure size 432x288 with 1 Axes>"
      ]
     },
     "metadata": {
      "needs_background": "light"
     },
     "output_type": "display_data"
    }
   ],
   "source": [
    "data_train['rougher.input.feed_size'].plot(kind='hist', label='обучающая выборка', grid=True, legend=True)\n",
    "data_test['rougher.input.feed_size'].plot(kind='hist', label='тестовая выборка', grid=True, legend=True)"
   ]
  },
  {
   "cell_type": "code",
   "execution_count": 14,
   "metadata": {},
   "outputs": [
    {
     "data": {
      "text/plain": [
       "<matplotlib.axes._subplots.AxesSubplot at 0x7eff39af6630>"
      ]
     },
     "execution_count": 14,
     "metadata": {},
     "output_type": "execute_result"
    },
    {
     "data": {
      "image/png": "[encoded data removed]",
      "text/plain": [
       "<Figure size 432x288 with 1 Axes>"
      ]
     },
     "metadata": {
      "needs_background": "light"
     },
     "output_type": "display_data"
    }
   ],
   "source": [
    "data_train['primary_cleaner.input.feed_size'].plot(kind='hist', label='обучающая выборка', grid=True, legend=True)\n",
    "data_test['primary_cleaner.input.feed_size'].plot(kind='hist', label='тестовая выборка', grid=True, legend=True)"
   ]
  },
  {
   "cell_type": "markdown",
   "metadata": {},
   "source": [
    "На всех предыдущих графиках распределение концентраций на разных этапах и размеры гранул на тренеровочной и тестовой выборках выглядит схожим образом."
   ]
  },
  {
   "cell_type": "code",
   "execution_count": 15,
   "metadata": {},
   "outputs": [
    {
     "name": "stdout",
     "output_type": "stream",
     "text": [
      "0\n",
      "0\n",
      "0\n"
     ]
    }
   ],
   "source": [
    "data_train['rougher.output.concentrate_au'] = data_train['rougher.output.concentrate_au'].fillna(data_train['rougher.output.concentrate_au'].mean())\n",
    "data_train['rougher.output.concentrate_ag'] = data_train['rougher.output.concentrate_ag'].fillna(data_train['rougher.output.concentrate_ag'].mean())\n",
    "data_train['rougher.output.concentrate_pb'] = data_train['rougher.output.concentrate_pb'].fillna(data_train['rougher.output.concentrate_pb'].mean())\n",
    "\n",
    "print(data_train['rougher.output.concentrate_au'].isna().sum())\n",
    "print(data_train['rougher.output.concentrate_ag'].isna().sum())\n",
    "print(data_train['rougher.output.concentrate_pb'].isna().sum())\n",
    "\n"
   ]
  },
  {
   "cell_type": "code",
   "execution_count": 16,
   "metadata": {},
   "outputs": [
    {
     "name": "stdout",
     "output_type": "stream",
     "text": [
      "0\n",
      "0\n",
      "0\n"
     ]
    }
   ],
   "source": [
    "data_train['primary_cleaner.output.concentrate_au'] = data_train['primary_cleaner.output.concentrate_au'].fillna(data_train['primary_cleaner.output.concentrate_au'].mean())\n",
    "data_train['primary_cleaner.output.concentrate_ag'] = data_train['primary_cleaner.output.concentrate_ag'].fillna(data_train['primary_cleaner.output.concentrate_ag'].mean())\n",
    "data_train['primary_cleaner.output.concentrate_pb'] = data_train['primary_cleaner.output.concentrate_pb'].fillna(data_train['primary_cleaner.output.concentrate_pb'].mean())\n",
    "\n",
    "print(data_train['primary_cleaner.output.concentrate_au'].isna().sum())\n",
    "print(data_train['primary_cleaner.output.concentrate_ag'].isna().sum())\n",
    "print(data_train['primary_cleaner.output.concentrate_pb'].isna().sum())\n",
    "\n",
    "\n"
   ]
  },
  {
   "cell_type": "code",
   "execution_count": 17,
   "metadata": {},
   "outputs": [
    {
     "name": "stdout",
     "output_type": "stream",
     "text": [
      "0\n",
      "0\n",
      "0\n"
     ]
    }
   ],
   "source": [
    "data_train['final.output.concentrate_au'] = data_train['final.output.concentrate_au'].fillna(data_train['final.output.concentrate_au'].mean())\n",
    "\n",
    "data_train['final.output.concentrate_ag'] = data_train['final.output.concentrate_ag'].fillna(data_train['final.output.concentrate_ag'].mean())\n",
    "\n",
    "data_train['final.output.concentrate_pb'] = data_train['final.output.concentrate_pb'].fillna(data_train['final.output.concentrate_pb'].mean())\n",
    "\n",
    "print(data_train['final.output.concentrate_au'].isna().sum())\n",
    "print(data_train['final.output.concentrate_ag'].isna().sum())\n",
    "print(data_train['final.output.concentrate_pb'].isna().sum())\n",
    "\n"
   ]
  },
  {
   "cell_type": "markdown",
   "metadata": {},
   "source": [
    "Здесь я корректирую данные и делаю вычисления для построения итогового графика"
   ]
  },
  {
   "cell_type": "code",
   "execution_count": 18,
   "metadata": {},
   "outputs": [
    {
     "data": {
      "text/plain": [
       "<matplotlib.axes._subplots.AxesSubplot at 0x7eff43808eb8>"
      ]
     },
     "execution_count": 18,
     "metadata": {},
     "output_type": "execute_result"
    },
    {
     "data": {
      "image/png": "[encoded data removed]",
      "text/plain": [
       "<Figure size 432x288 with 1 Axes>"
      ]
     },
     "metadata": {
      "needs_background": "light"
     },
     "output_type": "display_data"
    }
   ],
   "source": [
    "data_train['sum_concentrate_rougher'] = data_train['rougher.output.concentrate_au'] + data_train['rougher.output.concentrate_ag'] + data_train['rougher.output.concentrate_pb']\n",
    "\n",
    "data_train['sum_concentrate_rougher'].plot(kind='hist', label='rougher.output.concentrate', grid=True, legend=True)\n",
    "\n",
    "data_train['sum_concentrate_primary_cleaner'] = data_train['primary_cleaner.output.concentrate_au'] + data_train['primary_cleaner.output.concentrate_ag'] + data_train['primary_cleaner.output.concentrate_pb']\n",
    "\n",
    "data_train['sum_concentrate_primary_cleaner'].plot(kind='hist', label='primary_cleaner.output.concentrate', grid=True, legend=True)\n",
    "\n",
    "data_train['sum_concentrate_secondary_cleaner'] = data_train['final.output.concentrate_au'] + data_train['final.output.concentrate_ag'] + data_train['final.output.concentrate_pb']\n",
    "\n",
    "data_train['sum_concentrate_secondary_cleaner'].plot(kind='hist', label='secondary_cleaner.output.concetrate', grid=True, legend=True)\n",
    "\n",
    "\n"
   ]
  },
  {
   "cell_type": "markdown",
   "metadata": {},
   "source": [
    "На графике явно видно, что есть выбросы в суммарной концентрации на всех трех этапах очистки"
   ]
  },
  {
   "cell_type": "code",
   "execution_count": 19,
   "metadata": {},
   "outputs": [],
   "source": [
    "data_train.rename(columns={'rougher.output.concentrate_au' : 'rougher_output_concentrate_au', 'rougher.output.concentrate_ag' : 'rougher_output_concentrate_ag', 'rougher.output.concentrate_pb' : 'rougher_output_concentrate_pb'}, inplace=True)\n",
    "\n",
    "data_train.rename(columns={'primary_cleaner.output.concentrate_au' : 'primary_cleaner_output_concentrate_au', 'primary_cleaner.output.concentrate_ag' : 'primary_cleaner_output_concentrate_ag', 'primary_cleaner.output.concentrate_pb' : 'primary_cleaner_output_concentrate_pb'}, inplace=True)\n",
    "\n",
    "data_train.rename(columns={'final.output.concentrate_au' : 'final_output_concentrate_au', 'final.output.concentrate_ag' : 'final_output_concentrate_ag', 'final.output.concentrate_pb' : 'final_output_concentrate_pb'}, inplace=True)\n",
    "\n",
    "\n",
    "\n",
    "\n"
   ]
  },
  {
   "cell_type": "code",
   "execution_count": 20,
   "metadata": {},
   "outputs": [],
   "source": [
    "data_train = data_train.query('sum_concentrate_rougher > 6.0')\n",
    "data_train = data_train.query('sum_concentrate_primary_cleaner > 6.0')\n",
    "data_train = data_train.query('sum_concentrate_secondary_cleaner > 6.0')\n"
   ]
  },
  {
   "cell_type": "code",
   "execution_count": 21,
   "metadata": {},
   "outputs": [
    {
     "data": {
      "text/plain": [
       "<matplotlib.axes._subplots.AxesSubplot at 0x7eff398f87b8>"
      ]
     },
     "execution_count": 21,
     "metadata": {},
     "output_type": "execute_result"
    },
    {
     "data": {
      "image/png": "[encoded data removed]",
      "text/plain": [
       "<Figure size 432x288 with 1 Axes>"
      ]
     },
     "metadata": {
      "needs_background": "light"
     },
     "output_type": "display_data"
    }
   ],
   "source": [
    "data_train['sum_concentrate_rougher'].plot(kind='hist', label='rougher.output.concentrate', grid=True, legend=True)\n",
    "\n",
    "data_train['sum_concentrate_primary_cleaner'].plot(kind='hist', label='primary_cleaner.output.concentrate', grid=True, legend=True)\n",
    "\n",
    "data_train['sum_concentrate_secondary_cleaner'].plot(kind='hist', label='secondary_cleaner.output.concetrate', grid=True, legend=True)\n"
   ]
  },
  {
   "cell_type": "markdown",
   "metadata": {},
   "source": [
    "На данном этапе я строил графики и смотрел распределение концентраций на разных этапах и двух выборках, тестовой и тренировочной. Также на последнем графике определяю выбросы в данных и удаляю их для того, чтобы предсказанее оказалось точнее"
   ]
  },
  {
   "cell_type": "markdown",
   "metadata": {},
   "source": [
    "# 3. Модель"
   ]
  },
  {
   "cell_type": "code",
   "execution_count": 23,
   "metadata": {},
   "outputs": [],
   "source": [
    "def sMAPE(predict, target):\n",
    "    target = target.array\n",
    "    count_sum = 0\n",
    "    for i in range(len(predict)):\n",
    "        yi= target[i]\n",
    "        y_i = predict[i]\n",
    "        summa = abs(yi - y_i) / (abs(yi + y_i) / 2) * 100\n",
    "        count_sum += summa\n",
    "    smape = count_sum / len(predict)\n",
    "    return smape"
   ]
  },
  {
   "cell_type": "code",
   "execution_count": 24,
   "metadata": {},
   "outputs": [],
   "source": [
    "def sMAPE_last(smape_rougher, smape_final):\n",
    "    smape_last = 0.25 * smape_rougher + 0.75 * smape_final\n",
    "    return smape_last"
   ]
  },
  {
   "cell_type": "code",
   "execution_count": 25,
   "metadata": {},
   "outputs": [
    {
     "data": {
      "text/plain": [
       "(14389,)"
      ]
     },
     "execution_count": 25,
     "metadata": {},
     "output_type": "execute_result"
    }
   ],
   "source": [
    "data_date_test = data_train['date']\n",
    "data_date_test.shape"
   ]
  },
  {
   "cell_type": "code",
   "execution_count": 26,
   "metadata": {},
   "outputs": [
    {
     "data": {
      "text/plain": [
       "(14389,)"
      ]
     },
     "execution_count": 26,
     "metadata": {},
     "output_type": "execute_result"
    }
   ],
   "source": [
    "data_test_1 = data_full.query('date in @data_date_test')\n",
    "\n",
    "\n",
    "\n",
    "data_target_test_rougher = data_test_1['rougher.output.recovery']\n",
    "\n",
    "data_target_test_final = data_test_1['final.output.recovery']\n",
    "\n",
    "data_target_test_rougher.shape\n"
   ]
  },
  {
   "cell_type": "code",
   "execution_count": 27,
   "metadata": {},
   "outputs": [
    {
     "name": "stdout",
     "output_type": "stream",
     "text": [
      "<class 'pandas.core.frame.DataFrame'>\n",
      "Int64Index: 14389 entries, 0 to 16859\n",
      "Data columns (total 58 columns):\n",
      "date                                          14389 non-null object\n",
      "final.output.recovery                         14389 non-null float64\n",
      "primary_cleaner.input.sulfate                 14389 non-null float64\n",
      "primary_cleaner.input.depressant              14389 non-null float64\n",
      "primary_cleaner.input.feed_size               14389 non-null float64\n",
      "primary_cleaner.input.xanthate                14389 non-null float64\n",
      "primary_cleaner.state.floatbank8_a_air        14389 non-null float64\n",
      "primary_cleaner.state.floatbank8_a_level      14389 non-null float64\n",
      "primary_cleaner.state.floatbank8_b_air        14389 non-null float64\n",
      "primary_cleaner.state.floatbank8_b_level      14389 non-null float64\n",
      "primary_cleaner.state.floatbank8_c_air        14389 non-null float64\n",
      "primary_cleaner.state.floatbank8_c_level      14389 non-null float64\n",
      "primary_cleaner.state.floatbank8_d_air        14389 non-null float64\n",
      "primary_cleaner.state.floatbank8_d_level      14389 non-null float64\n",
      "rougher.input.feed_ag                         14389 non-null float64\n",
      "rougher.input.feed_pb                         14389 non-null float64\n",
      "rougher.input.feed_rate                       14389 non-null float64\n",
      "rougher.input.feed_size                       14389 non-null float64\n",
      "rougher.input.feed_sol                        14389 non-null float64\n",
      "rougher.input.feed_au                         14389 non-null float64\n",
      "rougher.input.floatbank10_sulfate             14389 non-null float64\n",
      "rougher.input.floatbank10_xanthate            14389 non-null float64\n",
      "rougher.input.floatbank11_sulfate             14389 non-null float64\n",
      "rougher.input.floatbank11_xanthate            14389 non-null float64\n",
      "rougher.output.recovery                       14389 non-null float64\n",
      "rougher.state.floatbank10_a_air               14389 non-null float64\n",
      "rougher.state.floatbank10_a_level             14389 non-null float64\n",
      "rougher.state.floatbank10_b_air               14389 non-null float64\n",
      "rougher.state.floatbank10_b_level             14389 non-null float64\n",
      "rougher.state.floatbank10_c_air               14389 non-null float64\n",
      "rougher.state.floatbank10_c_level             14389 non-null float64\n",
      "rougher.state.floatbank10_d_air               14389 non-null float64\n",
      "rougher.state.floatbank10_d_level             14389 non-null float64\n",
      "rougher.state.floatbank10_e_air               14389 non-null float64\n",
      "rougher.state.floatbank10_e_level             14389 non-null float64\n",
      "rougher.state.floatbank10_f_air               14389 non-null float64\n",
      "rougher.state.floatbank10_f_level             14389 non-null float64\n",
      "secondary_cleaner.state.floatbank2_a_air      14389 non-null float64\n",
      "secondary_cleaner.state.floatbank2_a_level    14389 non-null float64\n",
      "secondary_cleaner.state.floatbank2_b_air      14389 non-null float64\n",
      "secondary_cleaner.state.floatbank2_b_level    14389 non-null float64\n",
      "secondary_cleaner.state.floatbank3_a_air      14389 non-null float64\n",
      "secondary_cleaner.state.floatbank3_a_level    14389 non-null float64\n",
      "secondary_cleaner.state.floatbank3_b_air      14389 non-null float64\n",
      "secondary_cleaner.state.floatbank3_b_level    14389 non-null float64\n",
      "secondary_cleaner.state.floatbank4_a_air      14389 non-null float64\n",
      "secondary_cleaner.state.floatbank4_a_level    14389 non-null float64\n",
      "secondary_cleaner.state.floatbank4_b_air      14389 non-null float64\n",
      "secondary_cleaner.state.floatbank4_b_level    14389 non-null float64\n",
      "secondary_cleaner.state.floatbank5_a_air      14389 non-null float64\n",
      "secondary_cleaner.state.floatbank5_a_level    14389 non-null float64\n",
      "secondary_cleaner.state.floatbank5_b_air      14389 non-null float64\n",
      "secondary_cleaner.state.floatbank5_b_level    14389 non-null float64\n",
      "secondary_cleaner.state.floatbank6_a_air      14389 non-null float64\n",
      "secondary_cleaner.state.floatbank6_a_level    14389 non-null float64\n",
      "sum_concentrate_rougher                       14389 non-null float64\n",
      "sum_concentrate_primary_cleaner               14389 non-null float64\n",
      "sum_concentrate_secondary_cleaner             14389 non-null float64\n",
      "dtypes: float64(57), object(1)\n",
      "memory usage: 6.5+ MB\n"
     ]
    }
   ],
   "source": [
    "columns = ['final_output_concentrate_ag', 'final_output_concentrate_pb', 'final.output.concentrate_sol',\n",
    "'final_output_concentrate_au','final.output.tail_ag', 'final.output.tail_pb', 'final.output.tail_sol',\n",
    "'final.output.tail_au', 'primary_cleaner_output_concentrate_ag', 'primary_cleaner_output_concentrate_pb', 'primary_cleaner_output_concentrate_au',\n",
    "          'primary_cleaner.output.concentrate_sol', 'primary_cleaner.output.tail_ag', 'primary_cleaner.output.tail_pb',\n",
    "'primary_cleaner.output.tail_au', 'primary_cleaner.output.tail_sol', 'rougher.calculation.sulfate_to_au_concentrate',\n",
    "'rougher.calculation.floatbank10_sulfate_to_au_feed', 'rougher.calculation.floatbank11_sulfate_to_au_feed',\n",
    "'rougher.calculation.au_pb_ratio', 'secondary_cleaner.output.tail_ag', 'secondary_cleaner.output.tail_pb', 'secondary_cleaner.output.tail_sol',\n",
    "'secondary_cleaner.output.tail_au', 'rougher.output.concentrate_sol',\n",
    "'rougher_output_concentrate_au', 'rougher.output.tail_ag', 'rougher.output.tail_au', 'rougher.output.tail_pb', 'rougher.output.tail_sol',\n",
    "'rougher_output_concentrate_ag', 'rougher_output_concentrate_pb']\n",
    "\n",
    "data_train1 = data_train.drop(columns, axis=1)\n",
    "data_train1.info()\n",
    "\n",
    "\n"
   ]
  },
  {
   "cell_type": "markdown",
   "metadata": {},
   "source": [
    "Здесь я удаляю столбцы, которых нет в тестовой выборке."
   ]
  },
  {
   "cell_type": "code",
   "execution_count": 28,
   "metadata": {},
   "outputs": [
    {
     "name": "stdout",
     "output_type": "stream",
     "text": [
      "primary_cleaner.input.sulfate                 0\n",
      "primary_cleaner.input.depressant              0\n",
      "primary_cleaner.input.feed_size               0\n",
      "primary_cleaner.input.xanthate                0\n",
      "primary_cleaner.state.floatbank8_a_air        0\n",
      "primary_cleaner.state.floatbank8_a_level      0\n",
      "primary_cleaner.state.floatbank8_b_air        0\n",
      "primary_cleaner.state.floatbank8_b_level      0\n",
      "primary_cleaner.state.floatbank8_c_air        0\n",
      "primary_cleaner.state.floatbank8_c_level      0\n",
      "primary_cleaner.state.floatbank8_d_air        0\n",
      "primary_cleaner.state.floatbank8_d_level      0\n",
      "rougher.input.feed_ag                         0\n",
      "rougher.input.feed_pb                         0\n",
      "rougher.input.feed_rate                       0\n",
      "rougher.input.feed_size                       0\n",
      "rougher.input.feed_sol                        0\n",
      "rougher.input.feed_au                         0\n",
      "rougher.input.floatbank10_sulfate             0\n",
      "rougher.input.floatbank10_xanthate            0\n",
      "rougher.input.floatbank11_sulfate             0\n",
      "rougher.input.floatbank11_xanthate            0\n",
      "rougher.state.floatbank10_a_air               0\n",
      "rougher.state.floatbank10_a_level             0\n",
      "rougher.state.floatbank10_b_air               0\n",
      "rougher.state.floatbank10_b_level             0\n",
      "rougher.state.floatbank10_c_air               0\n",
      "rougher.state.floatbank10_c_level             0\n",
      "rougher.state.floatbank10_d_air               0\n",
      "rougher.state.floatbank10_d_level             0\n",
      "rougher.state.floatbank10_e_air               0\n",
      "rougher.state.floatbank10_e_level             0\n",
      "rougher.state.floatbank10_f_air               0\n",
      "rougher.state.floatbank10_f_level             0\n",
      "secondary_cleaner.state.floatbank2_a_air      0\n",
      "secondary_cleaner.state.floatbank2_a_level    0\n",
      "secondary_cleaner.state.floatbank2_b_air      0\n",
      "secondary_cleaner.state.floatbank2_b_level    0\n",
      "secondary_cleaner.state.floatbank3_a_air      0\n",
      "secondary_cleaner.state.floatbank3_a_level    0\n",
      "secondary_cleaner.state.floatbank3_b_air      0\n",
      "secondary_cleaner.state.floatbank3_b_level    0\n",
      "secondary_cleaner.state.floatbank4_a_air      0\n",
      "secondary_cleaner.state.floatbank4_a_level    0\n",
      "secondary_cleaner.state.floatbank4_b_air      0\n",
      "secondary_cleaner.state.floatbank4_b_level    0\n",
      "secondary_cleaner.state.floatbank5_a_air      0\n",
      "secondary_cleaner.state.floatbank5_a_level    0\n",
      "secondary_cleaner.state.floatbank5_b_air      0\n",
      "secondary_cleaner.state.floatbank5_b_level    0\n",
      "secondary_cleaner.state.floatbank6_a_air      0\n",
      "secondary_cleaner.state.floatbank6_a_level    0\n",
      "dtype: int64\n",
      "(14389,)\n"
     ]
    }
   ],
   "source": [
    "\n",
    "encoder = OrdinalEncoder()\n",
    "data_ordinal_train = pd.DataFrame(encoder.fit_transform(data_train1),columns=data_train1.columns)\n",
    "data_ordinal_test = pd.DataFrame(encoder.fit_transform(data_test),columns=data_test.columns)\n",
    "\n",
    "\n",
    "target_train_rougher = data_train1['rougher.output.recovery']\n",
    "target_train_recovery = data_train1['final.output.recovery']\n",
    "rougher_output_recovery = data_ordinal_train['rougher.output.recovery']\n",
    "features_train_rougher = data_ordinal_train.drop(['date', 'rougher.output.recovery', 'final.output.recovery', 'sum_concentrate_rougher', 'sum_concentrate_primary_cleaner', 'sum_concentrate_secondary_cleaner'], axis=1)\n",
    "features_test_rougher = data_ordinal_test.drop(['date'], axis=1)\n",
    "\n",
    "\n",
    "print(features_train_rougher.isna().sum())\n",
    "print(target_train_rougher.shape)\n",
    "\n",
    "\n"
   ]
  },
  {
   "cell_type": "markdown",
   "metadata": {},
   "source": [
    "Здесь я подготовил данные для обучения модели"
   ]
  },
  {
   "cell_type": "code",
   "execution_count": 29,
   "metadata": {},
   "outputs": [
    {
     "name": "stdout",
     "output_type": "stream",
     "text": [
      "Средняя оценка качества модели: -0.23640375845530523\n"
     ]
    }
   ],
   "source": [
    "model_1 = LinearRegression()\n",
    "model_1.fit(features_train_rougher, target_train_rougher)\n",
    "scores = cross_val_score(model_1, features_train_rougher, target_train_rougher, cv=7)\n",
    "\n",
    "final_score = sum(scores) / len(scores)\n",
    "\n",
    "print('Средняя оценка качества модели:', final_score)"
   ]
  },
  {
   "cell_type": "markdown",
   "metadata": {},
   "source": [
    "На данном этапе я подготовил данные для обучения модели, а также оцениваю качество кросс_валидацией"
   ]
  },
  {
   "cell_type": "code",
   "execution_count": 30,
   "metadata": {},
   "outputs": [
    {
     "name": "stdout",
     "output_type": "stream",
     "text": [
      "0\n"
     ]
    }
   ],
   "source": [
    "data_target_test_rougher = data_target_test_rougher.fillna(data_target_test_rougher.mean())\n",
    "print(data_target_test_rougher.isna().sum())"
   ]
  },
  {
   "cell_type": "code",
   "execution_count": 31,
   "metadata": {},
   "outputs": [
    {
     "name": "stdout",
     "output_type": "stream",
     "text": [
      "8.184440005022886\n"
     ]
    }
   ],
   "source": [
    "predict_test_rougher = model_1.predict(features_test_rougher)\n",
    "predict_test_rougher = pd.Series(predict_test_rougher)\n",
    "smape_rougher = sMAPE(predict_test_rougher, data_target_test_rougher)\n",
    "print(smape_rougher)\n",
    "\n"
   ]
  },
  {
   "cell_type": "markdown",
   "metadata": {},
   "source": [
    "Здесь я использую ранее написанную функцию для расчета sMAPE и вычисляю данную метрику для этапа rougher"
   ]
  },
  {
   "cell_type": "code",
   "execution_count": 32,
   "metadata": {},
   "outputs": [
    {
     "name": "stdout",
     "output_type": "stream",
     "text": [
      "<class 'pandas.core.frame.DataFrame'>\n",
      "RangeIndex: 5856 entries, 0 to 5855\n",
      "Data columns (total 53 columns):\n",
      "primary_cleaner.input.sulfate                 5856 non-null float64\n",
      "primary_cleaner.input.depressant              5856 non-null float64\n",
      "primary_cleaner.input.feed_size               5856 non-null float64\n",
      "primary_cleaner.input.xanthate                5856 non-null float64\n",
      "primary_cleaner.state.floatbank8_a_air        5856 non-null float64\n",
      "primary_cleaner.state.floatbank8_a_level      5856 non-null float64\n",
      "primary_cleaner.state.floatbank8_b_air        5856 non-null float64\n",
      "primary_cleaner.state.floatbank8_b_level      5856 non-null float64\n",
      "primary_cleaner.state.floatbank8_c_air        5856 non-null float64\n",
      "primary_cleaner.state.floatbank8_c_level      5856 non-null float64\n",
      "primary_cleaner.state.floatbank8_d_air        5856 non-null float64\n",
      "primary_cleaner.state.floatbank8_d_level      5856 non-null float64\n",
      "rougher.input.feed_ag                         5856 non-null float64\n",
      "rougher.input.feed_pb                         5856 non-null float64\n",
      "rougher.input.feed_rate                       5856 non-null float64\n",
      "rougher.input.feed_size                       5856 non-null float64\n",
      "rougher.input.feed_sol                        5856 non-null float64\n",
      "rougher.input.feed_au                         5856 non-null float64\n",
      "rougher.input.floatbank10_sulfate             5856 non-null float64\n",
      "rougher.input.floatbank10_xanthate            5856 non-null float64\n",
      "rougher.input.floatbank11_sulfate             5856 non-null float64\n",
      "rougher.input.floatbank11_xanthate            5856 non-null float64\n",
      "rougher.state.floatbank10_a_air               5856 non-null float64\n",
      "rougher.state.floatbank10_a_level             5856 non-null float64\n",
      "rougher.state.floatbank10_b_air               5856 non-null float64\n",
      "rougher.state.floatbank10_b_level             5856 non-null float64\n",
      "rougher.state.floatbank10_c_air               5856 non-null float64\n",
      "rougher.state.floatbank10_c_level             5856 non-null float64\n",
      "rougher.state.floatbank10_d_air               5856 non-null float64\n",
      "rougher.state.floatbank10_d_level             5856 non-null float64\n",
      "rougher.state.floatbank10_e_air               5856 non-null float64\n",
      "rougher.state.floatbank10_e_level             5856 non-null float64\n",
      "rougher.state.floatbank10_f_air               5856 non-null float64\n",
      "rougher.state.floatbank10_f_level             5856 non-null float64\n",
      "secondary_cleaner.state.floatbank2_a_air      5856 non-null float64\n",
      "secondary_cleaner.state.floatbank2_a_level    5856 non-null float64\n",
      "secondary_cleaner.state.floatbank2_b_air      5856 non-null float64\n",
      "secondary_cleaner.state.floatbank2_b_level    5856 non-null float64\n",
      "secondary_cleaner.state.floatbank3_a_air      5856 non-null float64\n",
      "secondary_cleaner.state.floatbank3_a_level    5856 non-null float64\n",
      "secondary_cleaner.state.floatbank3_b_air      5856 non-null float64\n",
      "secondary_cleaner.state.floatbank3_b_level    5856 non-null float64\n",
      "secondary_cleaner.state.floatbank4_a_air      5856 non-null float64\n",
      "secondary_cleaner.state.floatbank4_a_level    5856 non-null float64\n",
      "secondary_cleaner.state.floatbank4_b_air      5856 non-null float64\n",
      "secondary_cleaner.state.floatbank4_b_level    5856 non-null float64\n",
      "secondary_cleaner.state.floatbank5_a_air      5856 non-null float64\n",
      "secondary_cleaner.state.floatbank5_a_level    5856 non-null float64\n",
      "secondary_cleaner.state.floatbank5_b_air      5856 non-null float64\n",
      "secondary_cleaner.state.floatbank5_b_level    5856 non-null float64\n",
      "secondary_cleaner.state.floatbank6_a_air      5856 non-null float64\n",
      "secondary_cleaner.state.floatbank6_a_level    5856 non-null float64\n",
      "rougher.output.recovery                       5856 non-null float64\n",
      "dtypes: float64(53)\n",
      "memory usage: 2.4 MB\n"
     ]
    }
   ],
   "source": [
    "features_test_rougher['rougher.output.recovery'] = predict_test_rougher\n",
    "features_train_rougher['rougher.output.recovery'] = rougher_output_recovery\n",
    "features_test_rougher.info()"
   ]
  },
  {
   "cell_type": "markdown",
   "metadata": {},
   "source": [
    "Здесь я добавляю стобел rougher.output.recovery для дальнейшего обучения модели и предсказывания final.output.recovery для тестовой выборки"
   ]
  },
  {
   "cell_type": "code",
   "execution_count": 33,
   "metadata": {},
   "outputs": [
    {
     "name": "stdout",
     "output_type": "stream",
     "text": [
      "0\n"
     ]
    }
   ],
   "source": [
    "data_target_test_final = data_target_test_final.fillna(data_target_test_final.mean())\n",
    "print(data_target_test_final.isna().sum())"
   ]
  },
  {
   "cell_type": "code",
   "execution_count": 34,
   "metadata": {},
   "outputs": [
    {
     "name": "stdout",
     "output_type": "stream",
     "text": [
      "22.110793497764973\n"
     ]
    }
   ],
   "source": [
    "model_1_last = LinearRegression()\n",
    "model_1_last.fit(features_train_rougher, target_train_recovery)\n",
    "predict_test_final = model_1_last.predict(features_test_rougher)\n",
    "predict_test_final = pd.Series(predict_test_final)\n",
    "smape_final = sMAPE(predict_test_final, data_target_test_final)\n",
    "print(smape_final)"
   ]
  },
  {
   "cell_type": "markdown",
   "metadata": {},
   "source": [
    "Теперь я нахожу sMAPE для финального этапа"
   ]
  },
  {
   "cell_type": "code",
   "execution_count": 35,
   "metadata": {},
   "outputs": [
    {
     "name": "stdout",
     "output_type": "stream",
     "text": [
      "18.62920512457945\n"
     ]
    }
   ],
   "source": [
    "smape_last = sMAPE_last(smape_rougher, smape_final)\n",
    "print(smape_last)"
   ]
  },
  {
   "cell_type": "markdown",
   "metadata": {},
   "source": [
    "На данном этапе я нахожу итоговое sMAPE, используя полученные до этого данные, и получаю значение итогового sMAPE = 18.6"
   ]
  },
  {
   "cell_type": "markdown",
   "metadata": {},
   "source": [
    "Наиболее быстрый результат я получил при использовании модели линейной регрессии"
   ]
  },
  {
   "cell_type": "code",
   "execution_count": null,
   "metadata": {},
   "outputs": [],
   "source": []
  }
 ],
 "metadata": {
  "kernelspec": {
   "display_name": "Python 3",
   "language": "python",
   "name": "python3"
  },
  "language_info": {
   "codemirror_mode": {
    "name": "ipython",
    "version": 3
   },
   "file_extension": ".py",
   "mimetype": "text/x-python",
   "name": "python",
   "nbconvert_exporter": "python",
   "pygments_lexer": "ipython3",
   "version": "3.7.4"
  }
 },
 "nbformat": 4,
 "nbformat_minor": 2
}
