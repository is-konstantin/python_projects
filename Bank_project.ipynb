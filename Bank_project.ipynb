{
 "cells": [
  {
   "cell_type": "markdown",
   "metadata": {},
   "source": [
    "# Отток клиентов"
   ]
  },
  {
   "cell_type": "markdown",
   "metadata": {},
   "source": [
    "Из «Бета-Банка» стали уходить клиенты. Каждый месяц. Немного, но заметно. Банковские маркетологи посчитали: сохранять текущих клиентов дешевле, чем привлекать новых.\n",
    "\n",
    "Нужно спрогнозировать, уйдёт клиент из банка в ближайшее время или нет. Вам предоставлены исторические данные о поведении клиентов и расторжении договоров с банком. \n",
    "\n",
    "Постройте модель с предельно большим значением *F1*-меры. Чтобы сдать проект успешно, нужно довести метрику до 0.59. \n",
    "Дополнительно нужно измеряйть *AUC-ROC* и сравнивайть её значение с *F1*-мерой.\n"
   ]
  },
  {
   "cell_type": "markdown",
   "metadata": {},
   "source": [
    "# 1. Подготовка данных"
   ]
  },
  {
   "cell_type": "code",
   "execution_count": 1,
   "metadata": {},
   "outputs": [],
   "source": [
    "import pandas as pd\n",
    "from sklearn.utils import shuffle\n",
    "from sklearn.model_selection import train_test_split\n",
    "from sklearn.preprocessing import StandardScaler\n",
    "from sklearn.ensemble import RandomForestRegressor\n",
    "from sklearn.metrics import f1_score\n",
    "from sklearn.linear_model import LogisticRegression\n",
    "from sklearn.metrics import roc_auc_score\n",
    "from sklearn.ensemble import RandomForestClassifier\n",
    "from sklearn.tree import DecisionTreeClassifier\n"
   ]
  },
  {
   "cell_type": "markdown",
   "metadata": {},
   "source": [
    "На данном этапе я добавляю необходимые библиотеки для работы"
   ]
  },
  {
   "cell_type": "code",
   "execution_count": 2,
   "metadata": {},
   "outputs": [
    {
     "name": "stdout",
     "output_type": "stream",
     "text": [
      "(10000, 14)\n"
     ]
    }
   ],
   "source": [
    "data = pd.read_csv('/datasets/Churn.csv')\n",
    "print(data.shape)\n",
    "\n",
    "#data.head(10)"
   ]
  },
  {
   "cell_type": "code",
   "execution_count": 3,
   "metadata": {},
   "outputs": [
    {
     "name": "stdout",
     "output_type": "stream",
     "text": [
      "4.997690023099769\n"
     ]
    }
   ],
   "source": [
    "print(data['Tenure'].mean())"
   ]
  },
  {
   "cell_type": "code",
   "execution_count": 4,
   "metadata": {},
   "outputs": [
    {
     "data": {
      "text/plain": [
       "RowNumber          0\n",
       "CustomerId         0\n",
       "Surname            0\n",
       "CreditScore        0\n",
       "Geography          0\n",
       "Gender             0\n",
       "Age                0\n",
       "Tenure             0\n",
       "Balance            0\n",
       "NumOfProducts      0\n",
       "HasCrCard          0\n",
       "IsActiveMember     0\n",
       "EstimatedSalary    0\n",
       "Exited             0\n",
       "dtype: int64"
      ]
     },
     "execution_count": 4,
     "metadata": {},
     "output_type": "execute_result"
    }
   ],
   "source": [
    "data['Tenure'] = data['Tenure'].fillna(data['Tenure'].mean())\n",
    "data.isna().sum()"
   ]
  },
  {
   "cell_type": "markdown",
   "metadata": {},
   "source": [
    "Теперь я сделал замену на среднее пустых значений, чтобы этот параматер координально не изменился"
   ]
  },
  {
   "cell_type": "markdown",
   "metadata": {},
   "source": [
    "Здесь я делаю вычитку файла, а также заполняю пропуски в столбце \"Tenure\""
   ]
  },
  {
   "cell_type": "code",
   "execution_count": 5,
   "metadata": {},
   "outputs": [],
   "source": [
    "\n",
    "data_ohe = pd.get_dummies(data, drop_first=True)\n"
   ]
  },
  {
   "cell_type": "markdown",
   "metadata": {},
   "source": [
    "Преобразую данные методом прямого кодирования"
   ]
  },
  {
   "cell_type": "code",
   "execution_count": 6,
   "metadata": {},
   "outputs": [
    {
     "name": "stdout",
     "output_type": "stream",
     "text": [
      "(2000, 2944)\n"
     ]
    }
   ],
   "source": [
    "df_1, df_test = train_test_split(data_ohe, test_size = 0.2, random_state=12345)\n",
    "\n",
    "features_test = df_test.drop(['Exited'], axis=1)\n",
    "target_test = df_test['Exited']\n",
    "\n",
    "numeric = ['CreditScore', 'Age', 'Tenure', 'Balance', 'NumOfProducts', 'HasCrCard', 'EstimatedSalary']\n",
    "\n",
    "print(features_test.shape)"
   ]
  },
  {
   "cell_type": "code",
   "execution_count": 7,
   "metadata": {},
   "outputs": [
    {
     "name": "stdout",
     "output_type": "stream",
     "text": [
      "(6400, 2944)\n",
      "(1600, 2944)\n"
     ]
    }
   ],
   "source": [
    "df_train, df_valid = train_test_split(df_1, test_size=0.2, random_state=12345)\n",
    "\n",
    "features_train = df_train.drop(['Exited'], axis=1)\n",
    "target_train = df_train['Exited']\n",
    "features_valid = df_valid.drop(['Exited'], axis=1)\n",
    "target_valid = df_valid['Exited']\n",
    "\n",
    "scaler = StandardScaler()\n",
    "scaler.fit(features_train[numeric])\n",
    "features_train[numeric] = scaler.transform(features_train[numeric])\n",
    "features_valid[numeric] = scaler.transform(features_valid[numeric])\n",
    "features_test[numeric] = scaler.transform(features_test[numeric])\n",
    "\n",
    "print(features_train.shape)\n",
    "print(features_valid.shape)\n"
   ]
  },
  {
   "cell_type": "markdown",
   "metadata": {},
   "source": [
    "Здесь я разделил данные на тестовую, тренировочную, валидационную выборки. Разделил их на признаки и целевой признак. "
   ]
  },
  {
   "cell_type": "markdown",
   "metadata": {},
   "source": [
    "# 2. Исследование задачи"
   ]
  },
  {
   "cell_type": "code",
   "execution_count": 8,
   "metadata": {},
   "outputs": [
    {
     "name": "stdout",
     "output_type": "stream",
     "text": [
      "F1: 0.45464982778415614\n"
     ]
    }
   ],
   "source": [
    "model = LogisticRegression(random_state=12345, solver='liblinear', class_weight = 'balanced')\n",
    "model.fit(features_train, target_train)\n",
    "predicted_valid = model.predict(features_valid)\n",
    "print(\"F1:\", f1_score(target_valid, predicted_valid))"
   ]
  },
  {
   "cell_type": "code",
   "execution_count": 9,
   "metadata": {},
   "outputs": [
    {
     "name": "stdout",
     "output_type": "stream",
     "text": [
      "F1: 0.4272300469483568  , n_estimators = 10\n",
      "F1: 0.4551724137931034  , n_estimators = 20\n",
      "F1: 0.48526077097505665  , n_estimators = 30\n",
      "F1: 0.490990990990991  , n_estimators = 40\n",
      "F1: 0.5011286681715575  , n_estimators = 50\n",
      "F1: 0.502283105022831  , n_estimators = 60\n",
      "F1: 0.5056433408577878  , n_estimators = 70\n",
      "F1: 0.5011286681715575  , n_estimators = 80\n",
      "F1: 0.5022421524663677  , n_estimators = 90\n"
     ]
    }
   ],
   "source": [
    "for i in range(10, 100, 10):\n",
    "    model = RandomForestClassifier(random_state=12345, n_estimators = i)\n",
    "    model.fit(features_train, target_train)\n",
    "    predicted_valid = model.predict(features_valid)\n",
    "    print(\"F1:\", f1_score(target_valid, predicted_valid), ' , n_estimators =',i)"
   ]
  },
  {
   "cell_type": "markdown",
   "metadata": {},
   "source": [
    "Здесь я обучал модели и замерял метрику f1 на несбалансированных данных"
   ]
  },
  {
   "cell_type": "markdown",
   "metadata": {},
   "source": [
    "# 3. Борьба с дисбалансом"
   ]
  },
  {
   "cell_type": "code",
   "execution_count": 10,
   "metadata": {},
   "outputs": [
    {
     "name": "stdout",
     "output_type": "stream",
     "text": [
      "(9014, 2944)\n",
      "(9014,)\n"
     ]
    }
   ],
   "source": [
    "def upsample(features, target, repeat):\n",
    "    features_zeros = features[target == 0]\n",
    "    features_ones = features[target == 1]\n",
    "    target_zeros = target[target == 0]\n",
    "    target_ones = target[target == 1]\n",
    "    \n",
    "    features_upsampled = pd.concat([features_zeros] + [features_ones] * repeat)\n",
    "    target_upsampled = pd.concat([target_zeros] + [target_ones] * repeat)\n",
    "    \n",
    "    features_upsampled, target_upsampled = shuffle(features_upsampled, target_upsampled, random_state=12345)\n",
    "    \n",
    "    return features_upsampled, target_upsampled\n",
    "\n",
    "features_upsampled_train, target_upsampled_train = upsample(features_train, target_train, 3)\n",
    "\n",
    "print(features_upsampled_train.shape)\n",
    "print(target_upsampled_train.shape)"
   ]
  },
  {
   "cell_type": "markdown",
   "metadata": {},
   "source": [
    "На данном этапеи я увеличил выборку в 3 раза и разделил ее на положительные и отрицательные обьекты"
   ]
  },
  {
   "cell_type": "code",
   "execution_count": 11,
   "metadata": {},
   "outputs": [
    {
     "name": "stdout",
     "output_type": "stream",
     "text": [
      "F1: 0.46448703494926724\n"
     ]
    }
   ],
   "source": [
    "model_upsample_lr = LogisticRegression(random_state=12345, solver='liblinear', class_weight = 'balanced')\n",
    "model_upsample_lr.fit(features_upsampled_train, target_upsampled_train)\n",
    "predicted_valid_lr = model_upsample_lr.predict(features_valid)\n",
    "\n",
    "print(\"F1:\", f1_score(target_valid, predicted_valid_lr))"
   ]
  },
  {
   "cell_type": "markdown",
   "metadata": {},
   "source": [
    "Здесь я замерил f1 на модели логистической регрессии"
   ]
  },
  {
   "cell_type": "code",
   "execution_count": 12,
   "metadata": {},
   "outputs": [
    {
     "name": "stdout",
     "output_type": "stream",
     "text": [
      "F1: 0.49173553719008256  , n_estimators =  10\n",
      "AUC-ROC 0.776395642648305\n",
      "F1: 0.5247933884297521  , n_estimators =  20\n",
      "AUC-ROC 0.8045425976676311\n",
      "F1: 0.5542168674698795  , n_estimators =  30\n",
      "AUC-ROC 0.8200569478690352\n",
      "F1: 0.5588822355289421  , n_estimators =  40\n",
      "AUC-ROC 0.8209488258000819\n",
      "F1: 0.5537848605577689  , n_estimators =  50\n",
      "AUC-ROC 0.825371318936057\n",
      "F1: 0.5657370517928287  , n_estimators =  60\n",
      "AUC-ROC 0.8307760228605745\n",
      "F1: 0.5725646123260437  , n_estimators =  70\n",
      "AUC-ROC 0.8318307543938666\n",
      "F1: 0.5800000000000001  , n_estimators =  80\n",
      "AUC-ROC 0.834211216032937\n",
      "F1: 0.5720000000000001  , n_estimators =  90\n",
      "AUC-ROC 0.8367443529241128\n",
      "F1: 0.5765407554671969  , n_estimators =  100\n",
      "AUC-ROC 0.8376540429679051\n",
      "F1: 0.5628742514970061  , n_estimators =  110\n",
      "AUC-ROC 0.8371591206923312\n"
     ]
    }
   ],
   "source": [
    "for i in range(10, 120, 10):\n",
    "    model_rand = RandomForestClassifier(random_state=12345, n_estimators = i)\n",
    "    model_rand.fit(features_upsampled_train, target_upsampled_train)\n",
    "    predicted_valid_rand = model_rand.predict(features_valid)\n",
    "    probabilities_valid = model_rand.predict_proba(features_valid)\n",
    "    probabilities_one_valid = probabilities_valid[:, 1]\n",
    "    auc_roc = roc_auc_score(target_valid ,probabilities_one_valid)\n",
    "    \n",
    "    print(\"F1:\", f1_score(target_valid, predicted_valid_rand), ' , n_estimators = ', i)\n",
    "    print(\"AUC-ROC\",auc_roc)"
   ]
  },
  {
   "cell_type": "code",
   "execution_count": 13,
   "metadata": {},
   "outputs": [
    {
     "name": "stdout",
     "output_type": "stream",
     "text": [
      "AUC-ROC 0.834211216032937\n",
      "F1: 0.5800000000000001\n"
     ]
    }
   ],
   "source": [
    "model_rand = RandomForestClassifier(random_state=12345, n_estimators = 80)\n",
    "model_rand.fit(features_upsampled_train, target_upsampled_train)\n",
    "predicted_valid_rand = model_rand.predict(features_valid)\n",
    "probabilities_valid = model_rand.predict_proba(features_valid)\n",
    "probabilities_one_valid = probabilities_valid[:, 1]\n",
    "auc_roc = roc_auc_score(target_valid ,probabilities_one_valid)\n",
    "\n",
    "print(\"AUC-ROC\",auc_roc)\n",
    "print(\"F1:\", f1_score(target_valid, predicted_valid_rand))"
   ]
  },
  {
   "cell_type": "markdown",
   "metadata": {},
   "source": [
    "После я обучил модель случайный лес и нашел лучший результат f1 при разных параметрах. И получил результат, который стал лучше, чем до балансипрования классов"
   ]
  },
  {
   "cell_type": "code",
   "execution_count": 14,
   "metadata": {},
   "outputs": [
    {
     "name": "stdout",
     "output_type": "stream",
     "text": [
      "F1: 0.47058823529411764  ,max_depth =  1\n",
      "F1: 0.5006075334143378  ,max_depth =  2\n",
      "F1: 0.5330948121645795  ,max_depth =  3\n",
      "F1: 0.5283474065138722  ,max_depth =  4\n",
      "F1: 0.563165905631659  ,max_depth =  5\n",
      "F1: 0.5703124999999999  ,max_depth =  6\n",
      "F1: 0.5667125171939477  ,max_depth =  7\n",
      "F1: 0.5501432664756446  ,max_depth =  8\n",
      "F1: 0.5279583875162548  ,max_depth =  9\n"
     ]
    }
   ],
   "source": [
    "for i in range(1, 10):\n",
    "    model_tr = DecisionTreeClassifier(random_state = 12345, max_depth = i)\n",
    "    model_tr.fit(features_upsampled_train, target_upsampled_train)\n",
    "    predicted_valid_tr = model_tr.predict(features_valid)\n",
    "    print(\"F1:\", f1_score(target_valid, predicted_valid_tr), ' ,max_depth = ',i)"
   ]
  },
  {
   "cell_type": "markdown",
   "metadata": {},
   "source": [
    "Наилучший результат получился у модели случайного леса при увеличении выборки"
   ]
  },
  {
   "cell_type": "code",
   "execution_count": 15,
   "metadata": {},
   "outputs": [
    {
     "name": "stdout",
     "output_type": "stream",
     "text": [
      "(1816, 2944)\n",
      "(1816,)\n"
     ]
    }
   ],
   "source": [
    "def downsample(features, target, fraction):\n",
    "    features_zeros = features[target == 0]\n",
    "    features_ones = features[target == 1]\n",
    "    target_zeros = target[target == 0]\n",
    "    target_ones = target[target == 1]\n",
    "\n",
    "    features_downsampled = pd.concat(\n",
    "        [features_zeros.sample(frac=fraction, random_state=12345)] + [features_ones])\n",
    "    target_downsampled = pd.concat(\n",
    "        [target_zeros.sample(frac=fraction, random_state=12345)] + [target_ones])\n",
    "    \n",
    "    features_downsampled, target_downsampled = shuffle(\n",
    "        features_downsampled, target_downsampled, random_state=12345)\n",
    "    \n",
    "    return features_downsampled, target_downsampled\n",
    "\n",
    "features_downsampled_train, target_downsampled_train = downsample(features_train, target_train, 0.1)\n",
    "print(features_downsampled_train.shape)\n",
    "print(target_downsampled_train.shape)"
   ]
  },
  {
   "cell_type": "markdown",
   "metadata": {},
   "source": [
    "На данном этапе я уменьшаю выборку и буду обучать модели на основе данной выборки"
   ]
  },
  {
   "cell_type": "code",
   "execution_count": 16,
   "metadata": {},
   "outputs": [
    {
     "name": "stdout",
     "output_type": "stream",
     "text": [
      "F1: 0.39648866130212146  , n_estimators =  10\n",
      "AUC-ROC 0.7450157891656553\n",
      "\n",
      "F1: 0.38828337874659397  , n_estimators =  20\n",
      "AUC-ROC 0.777858780480978\n",
      "\n",
      "F1: 0.3870967741935484  , n_estimators =  30\n",
      "AUC-ROC 0.7848767529027383\n",
      "\n",
      "F1: 0.3881401617250674  , n_estimators =  40\n",
      "AUC-ROC 0.8018122552424864\n",
      "\n",
      "F1: 0.38866396761133604  , n_estimators =  50\n",
      "AUC-ROC 0.8061469601085012\n",
      "\n",
      "F1: 0.38933333333333336  , n_estimators =  60\n",
      "AUC-ROC 0.8102920932031522\n",
      "\n",
      "F1: 0.3847167325428195  , n_estimators =  70\n",
      "AUC-ROC 0.8134651938594014\n",
      "\n",
      "F1: 0.3884134298880843  , n_estimators =  80\n",
      "AUC-ROC 0.8167833360051502\n",
      "\n",
      "F1: 0.38562091503267976  , n_estimators =  90\n",
      "AUC-ROC 0.8188698977839186\n",
      "\n",
      "F1: 0.3841145833333333  , n_estimators =  100\n",
      "AUC-ROC 0.8206116679516834\n",
      "\n",
      "F1: 0.3847150259067358  , n_estimators =  110\n",
      "AUC-ROC 0.8199259016109783\n",
      "\n"
     ]
    }
   ],
   "source": [
    "for i in range(10, 120, 10):\n",
    "    model_rand_1 = RandomForestClassifier(random_state=12345, n_estimators = i)\n",
    "    model_rand_1.fit(features_downsampled_train, target_downsampled_train)\n",
    "    predicted_valid_rand = model_rand_1.predict(features_valid)\n",
    "    probabilities_valid = model_rand_1.predict_proba(features_valid)\n",
    "    probabilities_one_valid = probabilities_valid[:, 1]\n",
    "    auc_roc = roc_auc_score(target_valid ,probabilities_one_valid)\n",
    "    \n",
    "    print(\"F1:\", f1_score(target_valid, predicted_valid_rand), ' , n_estimators = ', i)\n",
    "    print(\"AUC-ROC\",auc_roc)\n",
    "    print()"
   ]
  },
  {
   "cell_type": "code",
   "execution_count": 17,
   "metadata": {},
   "outputs": [
    {
     "name": "stdout",
     "output_type": "stream",
     "text": [
      "F1: 0.4594894561598224\n"
     ]
    }
   ],
   "source": [
    "model_downsample_lr = LogisticRegression(random_state=12345, solver='liblinear', class_weight = 'balanced')\n",
    "model_downsample_lr.fit(features_downsampled_train, target_downsampled_train)\n",
    "predicted_valid_lr = model_downsample_lr.predict(features_valid)\n",
    "\n",
    "print(\"F1:\", f1_score(target_valid, predicted_valid_lr))"
   ]
  },
  {
   "cell_type": "code",
   "execution_count": 18,
   "metadata": {},
   "outputs": [
    {
     "name": "stdout",
     "output_type": "stream",
     "text": [
      "F1: 0.3184445612191277  ,max_depth =  1\n",
      "F1: 0.3184445612191277  ,max_depth =  2\n",
      "F1: 0.4164827078734364  ,max_depth =  3\n",
      "F1: 0.4167893961708394  ,max_depth =  4\n",
      "F1: 0.44573322286661143  ,max_depth =  5\n",
      "F1: 0.4337539432176657  ,max_depth =  6\n",
      "F1: 0.42576590730557745  ,max_depth =  7\n",
      "F1: 0.4224207961007311  ,max_depth =  8\n",
      "F1: 0.42704039571310803  ,max_depth =  9\n"
     ]
    }
   ],
   "source": [
    "for i in range(1, 10):\n",
    "    model_tr = DecisionTreeClassifier(random_state = 12345, max_depth = i)\n",
    "    model_tr.fit(features_downsampled_train, target_downsampled_train)\n",
    "    predicted_valid_tr = model_tr.predict(features_valid)\n",
    "    print(\"F1:\", f1_score(target_valid, predicted_valid_tr), ' ,max_depth = ',i)"
   ]
  },
  {
   "cell_type": "markdown",
   "metadata": {},
   "source": [
    "На основе показателей, можно сказать, что лучший результат получился при увеличении выборки и при использовании модели случайного леса."
   ]
  },
  {
   "cell_type": "markdown",
   "metadata": {},
   "source": [
    "# 4. Тестирование модели"
   ]
  },
  {
   "cell_type": "code",
   "execution_count": 19,
   "metadata": {},
   "outputs": [
    {
     "name": "stdout",
     "output_type": "stream",
     "text": [
      "F1: 0.5408618127786032\n",
      "AUC-ROC 0.8430384816375874\n"
     ]
    }
   ],
   "source": [
    "predicted_test = model_rand.predict(features_test)\n",
    "f1 = f1_score(target_test, predicted_test)\n",
    "print(\"F1:\", f1)\n",
    "probabilities_test = model_rand.predict_proba(features_test)\n",
    "probabilities_one_test = probabilities_test[:, 1]\n",
    "auc_roc = roc_auc_score(target_test ,probabilities_one_test)\n",
    "print(\"AUC-ROC\",auc_roc)"
   ]
  },
  {
   "cell_type": "markdown",
   "metadata": {},
   "source": [
    "На тестовой выборке я получил меру f1 примерно равную 0.54 и значение параметра AUC-ROC = 0.86. Это говорит о том, что после обработки данных модель случайный лес по показаниям метрик стал лучше предсказывать, чем это было до."
   ]
  },
  {
   "cell_type": "code",
   "execution_count": null,
   "metadata": {},
   "outputs": [],
   "source": []
  }
 ],
 "metadata": {
  "kernelspec": {
   "display_name": "Python 3",
   "language": "python",
   "name": "python3"
  },
  "language_info": {
   "codemirror_mode": {
    "name": "ipython",
    "version": 3
   },
   "file_extension": ".py",
   "mimetype": "text/x-python",
   "name": "python",
   "nbconvert_exporter": "python",
   "pygments_lexer": "ipython3",
   "version": "3.7.4"
  }
 },
 "nbformat": 4,
 "nbformat_minor": 2
}
