{
 "cells": [
  {
   "cell_type": "markdown",
   "metadata": {},
   "source": [
    "## Описание проекта"
   ]
  },
  {
   "cell_type": "markdown",
   "metadata": {},
   "source": [
    "Существует определенное предприятие, которое занимается обработкой стали и лругих видов. Даны данные по обработке стали с со всеми сопутствующими химическими и физическими процессами. Цель проекта - сократить расходы на электроэнергию : сократить затраты энергии на нагрев стали для термической обработки. Для этог следует разработать модель, которая будет прогнозировать требуемое значение температуры, тем самым сокращаем затраты энергии."
   ]
  },
  {
   "cell_type": "markdown",
   "metadata": {},
   "source": [
    "## Пункт 1"
   ]
  },
  {
   "cell_type": "markdown",
   "metadata": {},
   "source": [
    "Каждый пункт план был выполнен. Была проведена предобрабока данных: были удалены аномалии в данных, был вычислен дополнительный признак - полная мощность и обработаны другие признаки, а также были удалены пропущенные значения в общей таблице данных. Потом было разделение данных на тестовую, тренеровочную и валидационную выборки."
   ]
  },
  {
   "cell_type": "markdown",
   "metadata": {},
   "source": [
    "## Пункт 2"
   ]
  },
  {
   "cell_type": "markdown",
   "metadata": {},
   "source": [
    "Возникли небольшие трудности с выделением целевого признака. Решением данной проблемы было сначала выделение целевой температуры из всей таблицы данных, а после пропущенные значения были удалены. "
   ]
  },
  {
   "cell_type": "markdown",
   "metadata": {},
   "source": [
    "## Пункт 3"
   ]
  },
  {
   "cell_type": "markdown",
   "metadata": {},
   "source": [
    "1 Шаг: Вычитка данных из файлов и исследование их.\n",
    "\n",
    "2 Шаг: Предобработка данных: выделение целевого признака и других признаков, объединение всех таблицы в один датасет, вычисление дополнительного признака (полной мощности), удаление / исправление аномальных данных и удаление пропущенных значений, разделение данных на тестовую, тренеровочную и валидационную выборки.\n",
    "\n",
    "3 Шаг: Обучение разных моделей и выбор модель с наилучшим значением метрики MAE.\n",
    "\n",
    "4 Шаг: Применеие модели на тестовой выборке и получение метрики MAE на тестовых данных. Написание вывода.\n"
   ]
  },
  {
   "cell_type": "markdown",
   "metadata": {},
   "source": [
    "## Пункт 4"
   ]
  },
  {
   "cell_type": "markdown",
   "metadata": {},
   "source": [
    "Итоговая модель - LightGBM. Итоговое значение метрики MAE = 4.311087215557099."
   ]
  },
  {
   "cell_type": "markdown",
   "metadata": {},
   "source": [
    "## Исследовательский анализ и предобработка данных"
   ]
  },
  {
   "cell_type": "code",
   "execution_count": 2,
   "metadata": {},
   "outputs": [],
   "source": [
    "import pandas as pd\n",
    "import matplotlib.pyplot as plt\n",
    "from sklearn.preprocessing import OrdinalEncoder\n",
    "from sklearn.metrics import mean_absolute_error\n",
    "import numpy as np\n",
    "from sklearn.linear_model import LinearRegression\n",
    "from sklearn.linear_model import LogisticRegression\n",
    "from sklearn.model_selection import train_test_split\n",
    "import lightgbm as lgb\n",
    "from catboost import CatBoostRegressor"
   ]
  },
  {
   "cell_type": "markdown",
   "metadata": {},
   "source": [
    "Здесь добавляю требующиеяся библиотеки для анализа"
   ]
  },
  {
   "cell_type": "code",
   "execution_count": 4,
   "metadata": {},
   "outputs": [],
   "source": [
    "#data_arc = pd.read_csv('/datasets/final_steel/data_arc.csv')\n",
    "#data_bulk = pd.read_csv('/datasets/final_steel/data_bulk.csv')\n",
    "#data_bulk_time = pd.read_csv('/datasets/final_steel/data_bulk_time.csv')\n",
    "#data_gas = pd.read_csv('/datasets/final_steel/data_gas.csv')\n",
    "#data_temp = pd.read_csv('/datasets/final_steel/data_temp.csv')\n",
    "#data_wire = pd.read_csv('/datasets/final_steel/data_wire.csv')\n",
    "#data_wire_time = pd.read_csv('/datasets/final_steel/data_wire_time.csv')"
   ]
  },
  {
   "cell_type": "markdown",
   "metadata": {},
   "source": [
    "На данном шаге делаю вычитку данных из всех файлов"
   ]
  },
  {
   "cell_type": "code",
   "execution_count": 3,
   "metadata": {},
   "outputs": [
    {
     "name": "stdout",
     "output_type": "stream",
     "text": [
      "Размер выборки (14876, 5)\n",
      "Количество дубликатов: 0\n",
      "key                     0\n",
      "Начало нагрева дугой    0\n",
      "Конец нагрева дугой     0\n",
      "Активная мощность       0\n",
      "Реактивная мощность     0\n",
      "dtype: int64\n",
      "<class 'pandas.core.frame.DataFrame'>\n",
      "RangeIndex: 14876 entries, 0 to 14875\n",
      "Data columns (total 5 columns):\n",
      "key                     14876 non-null int64\n",
      "Начало нагрева дугой    14876 non-null object\n",
      "Конец нагрева дугой     14876 non-null object\n",
      "Активная мощность       14876 non-null float64\n",
      "Реактивная мощность     14876 non-null float64\n",
      "dtypes: float64(2), int64(1), object(2)\n",
      "memory usage: 581.2+ KB\n",
      "None\n"
     ]
    },
    {
     "data": {
      "text/html": [
       "<div>\n",
       "<style scoped>\n",
       "    .dataframe tbody tr th:only-of-type {\n",
       "        vertical-align: middle;\n",
       "    }\n",
       "\n",
       "    .dataframe tbody tr th {\n",
       "        vertical-align: top;\n",
       "    }\n",
       "\n",
       "    .dataframe thead th {\n",
       "        text-align: right;\n",
       "    }\n",
       "</style>\n",
       "<table border=\"1\" class=\"dataframe\">\n",
       "  <thead>\n",
       "    <tr style=\"text-align: right;\">\n",
       "      <th></th>\n",
       "      <th>key</th>\n",
       "      <th>Начало нагрева дугой</th>\n",
       "      <th>Конец нагрева дугой</th>\n",
       "      <th>Активная мощность</th>\n",
       "      <th>Реактивная мощность</th>\n",
       "    </tr>\n",
       "  </thead>\n",
       "  <tbody>\n",
       "    <tr>\n",
       "      <td>0</td>\n",
       "      <td>1</td>\n",
       "      <td>2019-05-03 11:02:14</td>\n",
       "      <td>2019-05-03 11:06:02</td>\n",
       "      <td>0.976059</td>\n",
       "      <td>0.687084</td>\n",
       "    </tr>\n",
       "    <tr>\n",
       "      <td>1</td>\n",
       "      <td>1</td>\n",
       "      <td>2019-05-03 11:07:28</td>\n",
       "      <td>2019-05-03 11:10:33</td>\n",
       "      <td>0.805607</td>\n",
       "      <td>0.520285</td>\n",
       "    </tr>\n",
       "    <tr>\n",
       "      <td>2</td>\n",
       "      <td>1</td>\n",
       "      <td>2019-05-03 11:11:44</td>\n",
       "      <td>2019-05-03 11:14:36</td>\n",
       "      <td>0.744363</td>\n",
       "      <td>0.498805</td>\n",
       "    </tr>\n",
       "    <tr>\n",
       "      <td>3</td>\n",
       "      <td>1</td>\n",
       "      <td>2019-05-03 11:18:14</td>\n",
       "      <td>2019-05-03 11:24:19</td>\n",
       "      <td>1.659363</td>\n",
       "      <td>1.062669</td>\n",
       "    </tr>\n",
       "    <tr>\n",
       "      <td>4</td>\n",
       "      <td>1</td>\n",
       "      <td>2019-05-03 11:26:09</td>\n",
       "      <td>2019-05-03 11:28:37</td>\n",
       "      <td>0.692755</td>\n",
       "      <td>0.414397</td>\n",
       "    </tr>\n",
       "  </tbody>\n",
       "</table>\n",
       "</div>"
      ],
      "text/plain": [
       "   key Начало нагрева дугой  Конец нагрева дугой  Активная мощность  \\\n",
       "0    1  2019-05-03 11:02:14  2019-05-03 11:06:02           0.976059   \n",
       "1    1  2019-05-03 11:07:28  2019-05-03 11:10:33           0.805607   \n",
       "2    1  2019-05-03 11:11:44  2019-05-03 11:14:36           0.744363   \n",
       "3    1  2019-05-03 11:18:14  2019-05-03 11:24:19           1.659363   \n",
       "4    1  2019-05-03 11:26:09  2019-05-03 11:28:37           0.692755   \n",
       "\n",
       "   Реактивная мощность  \n",
       "0             0.687084  \n",
       "1             0.520285  \n",
       "2             0.498805  \n",
       "3             1.062669  \n",
       "4             0.414397  "
      ]
     },
     "execution_count": 3,
     "metadata": {},
     "output_type": "execute_result"
    }
   ],
   "source": [
    "print('Размер выборки', data_arc.shape)\n",
    "print('Количество дубликатов:', data_arc.duplicated().sum())\n",
    "print(data_arc.isna().sum())\n",
    "print(data_arc.info())\n",
    "#data_arc.head()"
   ]
  },
  {
   "cell_type": "code",
   "execution_count": 6,
   "metadata": {},
   "outputs": [],
   "source": [
    "data_arc.columns = ['key', 'start_heating_arc', 'end_heating_arc', 'active_power', 'reactive_power']\n",
    "#data_arc.head()"
   ]
  },
  {
   "cell_type": "code",
   "execution_count": 5,
   "metadata": {},
   "outputs": [
    {
     "name": "stdout",
     "output_type": "stream",
     "text": [
      "<class 'pandas.core.frame.DataFrame'>\n",
      "RangeIndex: 14876 entries, 0 to 14875\n",
      "Data columns (total 5 columns):\n",
      "key                  14876 non-null int64\n",
      "start_heating_arc    14876 non-null datetime64[ns]\n",
      "end_heating_arc      14876 non-null datetime64[ns]\n",
      "active_power         14876 non-null float64\n",
      "reactive_power       14876 non-null float64\n",
      "dtypes: datetime64[ns](2), float64(2), int64(1)\n",
      "memory usage: 581.2 KB\n"
     ]
    }
   ],
   "source": [
    "data_arc['start_heating_arc']=pd.to_datetime(data_arc['start_heating_arc'], format='%Y.%m.%d %H:%M:%S')\n",
    "data_arc['end_heating_arc']=pd.to_datetime(data_arc['end_heating_arc'], format='%Y.%m.%d %H:%M:%S')\n",
    "data_arc['reactive_power'] = data_arc['reactive_power'].abs()\n",
    "data_arc.info()"
   ]
  },
  {
   "cell_type": "markdown",
   "metadata": {},
   "source": [
    "Здесь я вывожу данные об электродах. Смотрю на типы данных, объем, пропущенные значения в данной таблице. А также переименую названия колонок и изменяю тип данных двух столбцов со строкового в тип даты и времени."
   ]
  },
  {
   "cell_type": "code",
   "execution_count": 6,
   "metadata": {},
   "outputs": [
    {
     "name": "stdout",
     "output_type": "stream",
     "text": [
      "(3129, 16)\n",
      "key        0\n",
      "bulk_1     0\n",
      "bulk_2     0\n",
      "bulk_3     0\n",
      "bulk_4     0\n",
      "bulk_5     0\n",
      "bulk_6     0\n",
      "bulk_7     0\n",
      "bulk_8     0\n",
      "bulk_9     0\n",
      "bulk_10    0\n",
      "bulk_11    0\n",
      "bulk_12    0\n",
      "bulk_13    0\n",
      "bulk_14    0\n",
      "bulk_15    0\n",
      "dtype: int64\n",
      "<class 'pandas.core.frame.DataFrame'>\n",
      "RangeIndex: 3129 entries, 0 to 3128\n",
      "Data columns (total 16 columns):\n",
      "key        3129 non-null int64\n",
      "bulk_1     3129 non-null float64\n",
      "bulk_2     3129 non-null float64\n",
      "bulk_3     3129 non-null float64\n",
      "bulk_4     3129 non-null float64\n",
      "bulk_5     3129 non-null float64\n",
      "bulk_6     3129 non-null float64\n",
      "bulk_7     3129 non-null float64\n",
      "bulk_8     3129 non-null float64\n",
      "bulk_9     3129 non-null float64\n",
      "bulk_10    3129 non-null float64\n",
      "bulk_11    3129 non-null float64\n",
      "bulk_12    3129 non-null float64\n",
      "bulk_13    3129 non-null float64\n",
      "bulk_14    3129 non-null float64\n",
      "bulk_15    3129 non-null float64\n",
      "dtypes: float64(15), int64(1)\n",
      "memory usage: 391.2 KB\n",
      "None\n"
     ]
    },
    {
     "data": {
      "text/html": [
       "<div>\n",
       "<style scoped>\n",
       "    .dataframe tbody tr th:only-of-type {\n",
       "        vertical-align: middle;\n",
       "    }\n",
       "\n",
       "    .dataframe tbody tr th {\n",
       "        vertical-align: top;\n",
       "    }\n",
       "\n",
       "    .dataframe thead th {\n",
       "        text-align: right;\n",
       "    }\n",
       "</style>\n",
       "<table border=\"1\" class=\"dataframe\">\n",
       "  <thead>\n",
       "    <tr style=\"text-align: right;\">\n",
       "      <th></th>\n",
       "      <th>key</th>\n",
       "      <th>bulk_1</th>\n",
       "      <th>bulk_2</th>\n",
       "      <th>bulk_3</th>\n",
       "      <th>bulk_4</th>\n",
       "      <th>bulk_5</th>\n",
       "      <th>bulk_6</th>\n",
       "      <th>bulk_7</th>\n",
       "      <th>bulk_8</th>\n",
       "      <th>bulk_9</th>\n",
       "      <th>bulk_10</th>\n",
       "      <th>bulk_11</th>\n",
       "      <th>bulk_12</th>\n",
       "      <th>bulk_13</th>\n",
       "      <th>bulk_14</th>\n",
       "      <th>bulk_15</th>\n",
       "    </tr>\n",
       "  </thead>\n",
       "  <tbody>\n",
       "    <tr>\n",
       "      <td>0</td>\n",
       "      <td>1</td>\n",
       "      <td>0.0</td>\n",
       "      <td>0.0</td>\n",
       "      <td>0.0</td>\n",
       "      <td>43.0</td>\n",
       "      <td>0.0</td>\n",
       "      <td>0.0</td>\n",
       "      <td>0.0</td>\n",
       "      <td>0.0</td>\n",
       "      <td>0.0</td>\n",
       "      <td>0.0</td>\n",
       "      <td>0.0</td>\n",
       "      <td>206.0</td>\n",
       "      <td>0.0</td>\n",
       "      <td>150.0</td>\n",
       "      <td>154.0</td>\n",
       "    </tr>\n",
       "    <tr>\n",
       "      <td>1</td>\n",
       "      <td>2</td>\n",
       "      <td>0.0</td>\n",
       "      <td>0.0</td>\n",
       "      <td>0.0</td>\n",
       "      <td>73.0</td>\n",
       "      <td>0.0</td>\n",
       "      <td>0.0</td>\n",
       "      <td>0.0</td>\n",
       "      <td>0.0</td>\n",
       "      <td>0.0</td>\n",
       "      <td>0.0</td>\n",
       "      <td>0.0</td>\n",
       "      <td>206.0</td>\n",
       "      <td>0.0</td>\n",
       "      <td>149.0</td>\n",
       "      <td>154.0</td>\n",
       "    </tr>\n",
       "    <tr>\n",
       "      <td>2</td>\n",
       "      <td>3</td>\n",
       "      <td>0.0</td>\n",
       "      <td>0.0</td>\n",
       "      <td>0.0</td>\n",
       "      <td>34.0</td>\n",
       "      <td>0.0</td>\n",
       "      <td>0.0</td>\n",
       "      <td>0.0</td>\n",
       "      <td>0.0</td>\n",
       "      <td>0.0</td>\n",
       "      <td>0.0</td>\n",
       "      <td>0.0</td>\n",
       "      <td>205.0</td>\n",
       "      <td>0.0</td>\n",
       "      <td>152.0</td>\n",
       "      <td>153.0</td>\n",
       "    </tr>\n",
       "    <tr>\n",
       "      <td>3</td>\n",
       "      <td>4</td>\n",
       "      <td>0.0</td>\n",
       "      <td>0.0</td>\n",
       "      <td>0.0</td>\n",
       "      <td>81.0</td>\n",
       "      <td>0.0</td>\n",
       "      <td>0.0</td>\n",
       "      <td>0.0</td>\n",
       "      <td>0.0</td>\n",
       "      <td>0.0</td>\n",
       "      <td>0.0</td>\n",
       "      <td>0.0</td>\n",
       "      <td>207.0</td>\n",
       "      <td>0.0</td>\n",
       "      <td>153.0</td>\n",
       "      <td>154.0</td>\n",
       "    </tr>\n",
       "    <tr>\n",
       "      <td>4</td>\n",
       "      <td>5</td>\n",
       "      <td>0.0</td>\n",
       "      <td>0.0</td>\n",
       "      <td>0.0</td>\n",
       "      <td>78.0</td>\n",
       "      <td>0.0</td>\n",
       "      <td>0.0</td>\n",
       "      <td>0.0</td>\n",
       "      <td>0.0</td>\n",
       "      <td>0.0</td>\n",
       "      <td>0.0</td>\n",
       "      <td>0.0</td>\n",
       "      <td>203.0</td>\n",
       "      <td>0.0</td>\n",
       "      <td>151.0</td>\n",
       "      <td>152.0</td>\n",
       "    </tr>\n",
       "  </tbody>\n",
       "</table>\n",
       "</div>"
      ],
      "text/plain": [
       "   key  bulk_1  bulk_2  bulk_3  bulk_4  bulk_5  bulk_6  bulk_7  bulk_8  \\\n",
       "0    1     0.0     0.0     0.0    43.0     0.0     0.0     0.0     0.0   \n",
       "1    2     0.0     0.0     0.0    73.0     0.0     0.0     0.0     0.0   \n",
       "2    3     0.0     0.0     0.0    34.0     0.0     0.0     0.0     0.0   \n",
       "3    4     0.0     0.0     0.0    81.0     0.0     0.0     0.0     0.0   \n",
       "4    5     0.0     0.0     0.0    78.0     0.0     0.0     0.0     0.0   \n",
       "\n",
       "   bulk_9  bulk_10  bulk_11  bulk_12  bulk_13  bulk_14  bulk_15  \n",
       "0     0.0      0.0      0.0    206.0      0.0    150.0    154.0  \n",
       "1     0.0      0.0      0.0    206.0      0.0    149.0    154.0  \n",
       "2     0.0      0.0      0.0    205.0      0.0    152.0    153.0  \n",
       "3     0.0      0.0      0.0    207.0      0.0    153.0    154.0  \n",
       "4     0.0      0.0      0.0    203.0      0.0    151.0    152.0  "
      ]
     },
     "execution_count": 6,
     "metadata": {},
     "output_type": "execute_result"
    }
   ],
   "source": [
    "print(data_bulk.shape)\n",
    "data_bulk.columns = ['key', 'bulk_1', 'bulk_2', 'bulk_3', 'bulk_4', 'bulk_5', 'bulk_6', 'bulk_7', 'bulk_8', \n",
    "                    'bulk_9', 'bulk_10', 'bulk_11', 'bulk_12', 'bulk_13', 'bulk_14', 'bulk_15']\n",
    "data_bulk = data_bulk.fillna(0)\n",
    "print(data_bulk.isna().sum())\n",
    "print(data_bulk.info())\n",
    "data_bulk.head()"
   ]
  },
  {
   "cell_type": "markdown",
   "metadata": {},
   "source": [
    "Теперь я вывожу значения таблицы данных о подаче сыпучих материалов(объем). Смотрю на типы данных и размер таблицы. А также заменяю пропуски в таблице на нули, тем самым это будет означать, что некоторые виды сыпучих материалов не добавлялись."
   ]
  },
  {
   "cell_type": "code",
   "execution_count": 7,
   "metadata": {},
   "outputs": [
    {
     "name": "stdout",
     "output_type": "stream",
     "text": [
      "(3129, 16)\n",
      "key                0\n",
      "bulk_1_time     2877\n",
      "bulk_2_time     3107\n",
      "bulk_3_time     1831\n",
      "bulk_4_time     2115\n",
      "bulk_5_time     3052\n",
      "bulk_6_time     2553\n",
      "bulk_7_time     3104\n",
      "bulk_8_time     3128\n",
      "bulk_9_time     3110\n",
      "bulk_10_time    2953\n",
      "bulk_11_time    2952\n",
      "bulk_12_time     679\n",
      "bulk_13_time    3111\n",
      "bulk_14_time     323\n",
      "bulk_15_time     881\n",
      "dtype: int64\n",
      "<class 'pandas.core.frame.DataFrame'>\n",
      "RangeIndex: 3129 entries, 0 to 3128\n",
      "Data columns (total 16 columns):\n",
      "key             3129 non-null int64\n",
      "bulk_1_time     252 non-null datetime64[ns]\n",
      "bulk_2_time     22 non-null datetime64[ns]\n",
      "bulk_3_time     1298 non-null datetime64[ns]\n",
      "bulk_4_time     1014 non-null datetime64[ns]\n",
      "bulk_5_time     77 non-null datetime64[ns]\n",
      "bulk_6_time     576 non-null datetime64[ns]\n",
      "bulk_7_time     25 non-null datetime64[ns]\n",
      "bulk_8_time     1 non-null datetime64[ns]\n",
      "bulk_9_time     19 non-null datetime64[ns]\n",
      "bulk_10_time    176 non-null datetime64[ns]\n",
      "bulk_11_time    177 non-null datetime64[ns]\n",
      "bulk_12_time    2450 non-null datetime64[ns]\n",
      "bulk_13_time    18 non-null datetime64[ns]\n",
      "bulk_14_time    2806 non-null datetime64[ns]\n",
      "bulk_15_time    2248 non-null datetime64[ns]\n",
      "dtypes: datetime64[ns](15), int64(1)\n",
      "memory usage: 391.2 KB\n",
      "None\n"
     ]
    },
    {
     "data": {
      "text/html": [
       "<div>\n",
       "<style scoped>\n",
       "    .dataframe tbody tr th:only-of-type {\n",
       "        vertical-align: middle;\n",
       "    }\n",
       "\n",
       "    .dataframe tbody tr th {\n",
       "        vertical-align: top;\n",
       "    }\n",
       "\n",
       "    .dataframe thead th {\n",
       "        text-align: right;\n",
       "    }\n",
       "</style>\n",
       "<table border=\"1\" class=\"dataframe\">\n",
       "  <thead>\n",
       "    <tr style=\"text-align: right;\">\n",
       "      <th></th>\n",
       "      <th>key</th>\n",
       "      <th>bulk_1_time</th>\n",
       "      <th>bulk_2_time</th>\n",
       "      <th>bulk_3_time</th>\n",
       "      <th>bulk_4_time</th>\n",
       "      <th>bulk_5_time</th>\n",
       "      <th>bulk_6_time</th>\n",
       "      <th>bulk_7_time</th>\n",
       "      <th>bulk_8_time</th>\n",
       "      <th>bulk_9_time</th>\n",
       "      <th>bulk_10_time</th>\n",
       "      <th>bulk_11_time</th>\n",
       "      <th>bulk_12_time</th>\n",
       "      <th>bulk_13_time</th>\n",
       "      <th>bulk_14_time</th>\n",
       "      <th>bulk_15_time</th>\n",
       "    </tr>\n",
       "  </thead>\n",
       "  <tbody>\n",
       "    <tr>\n",
       "      <td>0</td>\n",
       "      <td>1</td>\n",
       "      <td>NaT</td>\n",
       "      <td>NaT</td>\n",
       "      <td>NaT</td>\n",
       "      <td>2019-05-03 11:21:30</td>\n",
       "      <td>NaT</td>\n",
       "      <td>NaT</td>\n",
       "      <td>NaT</td>\n",
       "      <td>NaT</td>\n",
       "      <td>NaT</td>\n",
       "      <td>NaT</td>\n",
       "      <td>NaT</td>\n",
       "      <td>2019-05-03 11:03:52</td>\n",
       "      <td>NaT</td>\n",
       "      <td>2019-05-03 11:03:52</td>\n",
       "      <td>2019-05-03 11:03:52</td>\n",
       "    </tr>\n",
       "    <tr>\n",
       "      <td>1</td>\n",
       "      <td>2</td>\n",
       "      <td>NaT</td>\n",
       "      <td>NaT</td>\n",
       "      <td>NaT</td>\n",
       "      <td>2019-05-03 11:46:38</td>\n",
       "      <td>NaT</td>\n",
       "      <td>NaT</td>\n",
       "      <td>NaT</td>\n",
       "      <td>NaT</td>\n",
       "      <td>NaT</td>\n",
       "      <td>NaT</td>\n",
       "      <td>NaT</td>\n",
       "      <td>2019-05-03 11:40:20</td>\n",
       "      <td>NaT</td>\n",
       "      <td>2019-05-03 11:40:20</td>\n",
       "      <td>2019-05-03 11:40:20</td>\n",
       "    </tr>\n",
       "    <tr>\n",
       "      <td>2</td>\n",
       "      <td>3</td>\n",
       "      <td>NaT</td>\n",
       "      <td>NaT</td>\n",
       "      <td>NaT</td>\n",
       "      <td>2019-05-03 12:31:06</td>\n",
       "      <td>NaT</td>\n",
       "      <td>NaT</td>\n",
       "      <td>NaT</td>\n",
       "      <td>NaT</td>\n",
       "      <td>NaT</td>\n",
       "      <td>NaT</td>\n",
       "      <td>NaT</td>\n",
       "      <td>2019-05-03 12:09:40</td>\n",
       "      <td>NaT</td>\n",
       "      <td>2019-05-03 12:09:40</td>\n",
       "      <td>2019-05-03 12:09:40</td>\n",
       "    </tr>\n",
       "    <tr>\n",
       "      <td>3</td>\n",
       "      <td>4</td>\n",
       "      <td>NaT</td>\n",
       "      <td>NaT</td>\n",
       "      <td>NaT</td>\n",
       "      <td>2019-05-03 12:48:43</td>\n",
       "      <td>NaT</td>\n",
       "      <td>NaT</td>\n",
       "      <td>NaT</td>\n",
       "      <td>NaT</td>\n",
       "      <td>NaT</td>\n",
       "      <td>NaT</td>\n",
       "      <td>NaT</td>\n",
       "      <td>2019-05-03 12:41:24</td>\n",
       "      <td>NaT</td>\n",
       "      <td>2019-05-03 12:41:24</td>\n",
       "      <td>2019-05-03 12:41:24</td>\n",
       "    </tr>\n",
       "    <tr>\n",
       "      <td>4</td>\n",
       "      <td>5</td>\n",
       "      <td>NaT</td>\n",
       "      <td>NaT</td>\n",
       "      <td>NaT</td>\n",
       "      <td>2019-05-03 13:18:50</td>\n",
       "      <td>NaT</td>\n",
       "      <td>NaT</td>\n",
       "      <td>NaT</td>\n",
       "      <td>NaT</td>\n",
       "      <td>NaT</td>\n",
       "      <td>NaT</td>\n",
       "      <td>NaT</td>\n",
       "      <td>2019-05-03 13:12:56</td>\n",
       "      <td>NaT</td>\n",
       "      <td>2019-05-03 13:12:56</td>\n",
       "      <td>2019-05-03 13:12:56</td>\n",
       "    </tr>\n",
       "  </tbody>\n",
       "</table>\n",
       "</div>"
      ],
      "text/plain": [
       "   key bulk_1_time bulk_2_time bulk_3_time         bulk_4_time bulk_5_time  \\\n",
       "0    1         NaT         NaT         NaT 2019-05-03 11:21:30         NaT   \n",
       "1    2         NaT         NaT         NaT 2019-05-03 11:46:38         NaT   \n",
       "2    3         NaT         NaT         NaT 2019-05-03 12:31:06         NaT   \n",
       "3    4         NaT         NaT         NaT 2019-05-03 12:48:43         NaT   \n",
       "4    5         NaT         NaT         NaT 2019-05-03 13:18:50         NaT   \n",
       "\n",
       "  bulk_6_time bulk_7_time bulk_8_time bulk_9_time bulk_10_time bulk_11_time  \\\n",
       "0         NaT         NaT         NaT         NaT          NaT          NaT   \n",
       "1         NaT         NaT         NaT         NaT          NaT          NaT   \n",
       "2         NaT         NaT         NaT         NaT          NaT          NaT   \n",
       "3         NaT         NaT         NaT         NaT          NaT          NaT   \n",
       "4         NaT         NaT         NaT         NaT          NaT          NaT   \n",
       "\n",
       "         bulk_12_time bulk_13_time        bulk_14_time        bulk_15_time  \n",
       "0 2019-05-03 11:03:52          NaT 2019-05-03 11:03:52 2019-05-03 11:03:52  \n",
       "1 2019-05-03 11:40:20          NaT 2019-05-03 11:40:20 2019-05-03 11:40:20  \n",
       "2 2019-05-03 12:09:40          NaT 2019-05-03 12:09:40 2019-05-03 12:09:40  \n",
       "3 2019-05-03 12:41:24          NaT 2019-05-03 12:41:24 2019-05-03 12:41:24  \n",
       "4 2019-05-03 13:12:56          NaT 2019-05-03 13:12:56 2019-05-03 13:12:56  "
      ]
     },
     "execution_count": 7,
     "metadata": {},
     "output_type": "execute_result"
    }
   ],
   "source": [
    "print(data_bulk_time.shape)\n",
    "data_bulk_time.columns = ['key', 'bulk_1_time', 'bulk_2_time', 'bulk_3_time', 'bulk_4_time', 'bulk_5_time', 'bulk_6_time', 'bulk_7_time', 'bulk_8_time', \n",
    "                    'bulk_9_time', 'bulk_10_time', 'bulk_11_time', 'bulk_12_time', 'bulk_13_time', 'bulk_14_time', 'bulk_15_time']\n",
    "data_bulk_time['bulk_1_time']=pd.to_datetime(data_bulk_time['bulk_1_time'], format='%Y.%m.%d %H:%M:%S')\n",
    "data_bulk_time['bulk_2_time']=pd.to_datetime(data_bulk_time['bulk_2_time'], format='%Y.%m.%d %H:%M:%S')\n",
    "data_bulk_time['bulk_3_time']=pd.to_datetime(data_bulk_time['bulk_3_time'], format='%Y.%m.%d %H:%M:%S')\n",
    "data_bulk_time['bulk_4_time']=pd.to_datetime(data_bulk_time['bulk_4_time'], format='%Y.%m.%d %H:%M:%S')\n",
    "data_bulk_time['bulk_5_time']=pd.to_datetime(data_bulk_time['bulk_5_time'], format='%Y.%m.%d %H:%M:%S')\n",
    "data_bulk_time['bulk_6_time']=pd.to_datetime(data_bulk_time['bulk_6_time'], format='%Y.%m.%d %H:%M:%S')\n",
    "data_bulk_time['bulk_7_time']=pd.to_datetime(data_bulk_time['bulk_7_time'], format='%Y.%m.%d %H:%M:%S')\n",
    "data_bulk_time['bulk_8_time']=pd.to_datetime(data_bulk_time['bulk_8_time'], format='%Y.%m.%d %H:%M:%S')\n",
    "data_bulk_time['bulk_9_time']=pd.to_datetime(data_bulk_time['bulk_9_time'], format='%Y.%m.%d %H:%M:%S')\n",
    "data_bulk_time['bulk_10_time']=pd.to_datetime(data_bulk_time['bulk_10_time'], format='%Y.%m.%d %H:%M:%S')\n",
    "data_bulk_time['bulk_11_time']=pd.to_datetime(data_bulk_time['bulk_11_time'], format='%Y.%m.%d %H:%M:%S')\n",
    "data_bulk_time['bulk_12_time']=pd.to_datetime(data_bulk_time['bulk_12_time'], format='%Y.%m.%d %H:%M:%S')\n",
    "data_bulk_time['bulk_13_time']=pd.to_datetime(data_bulk_time['bulk_13_time'], format='%Y.%m.%d %H:%M:%S')\n",
    "data_bulk_time['bulk_14_time']=pd.to_datetime(data_bulk_time['bulk_14_time'], format='%Y.%m.%d %H:%M:%S')\n",
    "data_bulk_time['bulk_15_time']=pd.to_datetime(data_bulk_time['bulk_15_time'], format='%Y.%m.%d %H:%M:%S')\n",
    "\n",
    "print(data_bulk_time.isna().sum())\n",
    "print(data_bulk_time.info())\n",
    "data_bulk_time.head()"
   ]
  },
  {
   "cell_type": "markdown",
   "metadata": {},
   "source": [
    "Здес я делаю вывожу данные о подаче сыпучих материалов(время). Провожу переименование названий колонок. Меняю тип данных со строкового в столбцах в тип даты и времени. А также вывожу размер выборки и количество пропущенных значений."
   ]
  },
  {
   "cell_type": "code",
   "execution_count": 8,
   "metadata": {},
   "outputs": [
    {
     "name": "stdout",
     "output_type": "stream",
     "text": [
      "(3239, 2)\n",
      "key      0\n",
      "gas_1    0\n",
      "dtype: int64\n",
      "<class 'pandas.core.frame.DataFrame'>\n",
      "RangeIndex: 3239 entries, 0 to 3238\n",
      "Data columns (total 2 columns):\n",
      "key      3239 non-null int64\n",
      "gas_1    3239 non-null float64\n",
      "dtypes: float64(1), int64(1)\n",
      "memory usage: 50.7 KB\n",
      "None\n"
     ]
    },
    {
     "data": {
      "text/html": [
       "<div>\n",
       "<style scoped>\n",
       "    .dataframe tbody tr th:only-of-type {\n",
       "        vertical-align: middle;\n",
       "    }\n",
       "\n",
       "    .dataframe tbody tr th {\n",
       "        vertical-align: top;\n",
       "    }\n",
       "\n",
       "    .dataframe thead th {\n",
       "        text-align: right;\n",
       "    }\n",
       "</style>\n",
       "<table border=\"1\" class=\"dataframe\">\n",
       "  <thead>\n",
       "    <tr style=\"text-align: right;\">\n",
       "      <th></th>\n",
       "      <th>key</th>\n",
       "      <th>gas_1</th>\n",
       "    </tr>\n",
       "  </thead>\n",
       "  <tbody>\n",
       "    <tr>\n",
       "      <td>0</td>\n",
       "      <td>1</td>\n",
       "      <td>29.749986</td>\n",
       "    </tr>\n",
       "    <tr>\n",
       "      <td>1</td>\n",
       "      <td>2</td>\n",
       "      <td>12.555561</td>\n",
       "    </tr>\n",
       "    <tr>\n",
       "      <td>2</td>\n",
       "      <td>3</td>\n",
       "      <td>28.554793</td>\n",
       "    </tr>\n",
       "    <tr>\n",
       "      <td>3</td>\n",
       "      <td>4</td>\n",
       "      <td>18.841219</td>\n",
       "    </tr>\n",
       "    <tr>\n",
       "      <td>4</td>\n",
       "      <td>5</td>\n",
       "      <td>5.413692</td>\n",
       "    </tr>\n",
       "  </tbody>\n",
       "</table>\n",
       "</div>"
      ],
      "text/plain": [
       "   key      gas_1\n",
       "0    1  29.749986\n",
       "1    2  12.555561\n",
       "2    3  28.554793\n",
       "3    4  18.841219\n",
       "4    5   5.413692"
      ]
     },
     "execution_count": 8,
     "metadata": {},
     "output_type": "execute_result"
    }
   ],
   "source": [
    "print(data_gas.shape)\n",
    "data_gas.columns = ['key', 'gas_1']\n",
    "print(data_gas.isna().sum())\n",
    "print(data_gas.info())\n",
    "data_gas.head()"
   ]
  },
  {
   "cell_type": "markdown",
   "metadata": {},
   "source": [
    "Теперь вывожу данные о продувке сплава газом. Также смотрю на количество пропущенных значений, типы данных и размер выборки. И делаю переименовку столбцов."
   ]
  },
  {
   "cell_type": "code",
   "execution_count": 9,
   "metadata": {},
   "outputs": [
    {
     "name": "stdout",
     "output_type": "stream",
     "text": [
      "(15907, 3)\n",
      "key                    0\n",
      "measurement_time       0\n",
      "temperature         2901\n",
      "dtype: int64\n",
      "<class 'pandas.core.frame.DataFrame'>\n",
      "RangeIndex: 15907 entries, 0 to 15906\n",
      "Data columns (total 3 columns):\n",
      "key                 15907 non-null int64\n",
      "measurement_time    15907 non-null datetime64[ns]\n",
      "temperature         13006 non-null float64\n",
      "dtypes: datetime64[ns](1), float64(1), int64(1)\n",
      "memory usage: 372.9 KB\n",
      "None\n"
     ]
    },
    {
     "data": {
      "text/html": [
       "<div>\n",
       "<style scoped>\n",
       "    .dataframe tbody tr th:only-of-type {\n",
       "        vertical-align: middle;\n",
       "    }\n",
       "\n",
       "    .dataframe tbody tr th {\n",
       "        vertical-align: top;\n",
       "    }\n",
       "\n",
       "    .dataframe thead th {\n",
       "        text-align: right;\n",
       "    }\n",
       "</style>\n",
       "<table border=\"1\" class=\"dataframe\">\n",
       "  <thead>\n",
       "    <tr style=\"text-align: right;\">\n",
       "      <th></th>\n",
       "      <th>key</th>\n",
       "      <th>measurement_time</th>\n",
       "      <th>temperature</th>\n",
       "    </tr>\n",
       "  </thead>\n",
       "  <tbody>\n",
       "    <tr>\n",
       "      <td>0</td>\n",
       "      <td>1</td>\n",
       "      <td>2019-05-03 11:16:18</td>\n",
       "      <td>1571.0</td>\n",
       "    </tr>\n",
       "    <tr>\n",
       "      <td>1</td>\n",
       "      <td>1</td>\n",
       "      <td>2019-05-03 11:25:53</td>\n",
       "      <td>1604.0</td>\n",
       "    </tr>\n",
       "    <tr>\n",
       "      <td>2</td>\n",
       "      <td>1</td>\n",
       "      <td>2019-05-03 11:29:11</td>\n",
       "      <td>1618.0</td>\n",
       "    </tr>\n",
       "    <tr>\n",
       "      <td>3</td>\n",
       "      <td>1</td>\n",
       "      <td>2019-05-03 11:30:01</td>\n",
       "      <td>1601.0</td>\n",
       "    </tr>\n",
       "    <tr>\n",
       "      <td>4</td>\n",
       "      <td>1</td>\n",
       "      <td>2019-05-03 11:30:39</td>\n",
       "      <td>1613.0</td>\n",
       "    </tr>\n",
       "  </tbody>\n",
       "</table>\n",
       "</div>"
      ],
      "text/plain": [
       "   key    measurement_time  temperature\n",
       "0    1 2019-05-03 11:16:18       1571.0\n",
       "1    1 2019-05-03 11:25:53       1604.0\n",
       "2    1 2019-05-03 11:29:11       1618.0\n",
       "3    1 2019-05-03 11:30:01       1601.0\n",
       "4    1 2019-05-03 11:30:39       1613.0"
      ]
     },
     "execution_count": 9,
     "metadata": {},
     "output_type": "execute_result"
    }
   ],
   "source": [
    "print(data_temp.shape)\n",
    "data_temp.columns = ['key', 'measurement_time', 'temperature']\n",
    "data_temp['measurement_time']=pd.to_datetime(data_temp['measurement_time'], format='%Y.%m.%d %H:%M:%S')\n",
    "print(data_temp.isna().sum())\n",
    "print(data_temp.info())\n",
    "data_temp.head()"
   ]
  },
  {
   "cell_type": "markdown",
   "metadata": {},
   "source": [
    "Вывожу результаты измерения температуры в разные моменты времени. Также вывожу размер выборки, пропущенные занчения в столбце температуры могли появится, поскольку датчик мог в те момент некорректно работать и заказчик сказал, что эти данные в дальнейшем можно будет удалить"
   ]
  },
  {
   "cell_type": "code",
   "execution_count": 11,
   "metadata": {},
   "outputs": [
    {
     "name": "stdout",
     "output_type": "stream",
     "text": [
      "(3081, 10)\n",
      "key       0\n",
      "wire_1    0\n",
      "wire_2    0\n",
      "wire_3    0\n",
      "wire_4    0\n",
      "wire_5    0\n",
      "wire_6    0\n",
      "wire_7    0\n",
      "wire_8    0\n",
      "wire_9    0\n",
      "dtype: int64\n",
      "<class 'pandas.core.frame.DataFrame'>\n",
      "RangeIndex: 3081 entries, 0 to 3080\n",
      "Data columns (total 10 columns):\n",
      "key       3081 non-null int64\n",
      "wire_1    3081 non-null float64\n",
      "wire_2    3081 non-null float64\n",
      "wire_3    3081 non-null float64\n",
      "wire_4    3081 non-null float64\n",
      "wire_5    3081 non-null float64\n",
      "wire_6    3081 non-null float64\n",
      "wire_7    3081 non-null float64\n",
      "wire_8    3081 non-null float64\n",
      "wire_9    3081 non-null float64\n",
      "dtypes: float64(9), int64(1)\n",
      "memory usage: 240.8 KB\n",
      "None\n"
     ]
    },
    {
     "data": {
      "text/html": [
       "<div>\n",
       "<style scoped>\n",
       "    .dataframe tbody tr th:only-of-type {\n",
       "        vertical-align: middle;\n",
       "    }\n",
       "\n",
       "    .dataframe tbody tr th {\n",
       "        vertical-align: top;\n",
       "    }\n",
       "\n",
       "    .dataframe thead th {\n",
       "        text-align: right;\n",
       "    }\n",
       "</style>\n",
       "<table border=\"1\" class=\"dataframe\">\n",
       "  <thead>\n",
       "    <tr style=\"text-align: right;\">\n",
       "      <th></th>\n",
       "      <th>key</th>\n",
       "      <th>wire_1</th>\n",
       "      <th>wire_2</th>\n",
       "      <th>wire_3</th>\n",
       "      <th>wire_4</th>\n",
       "      <th>wire_5</th>\n",
       "      <th>wire_6</th>\n",
       "      <th>wire_7</th>\n",
       "      <th>wire_8</th>\n",
       "      <th>wire_9</th>\n",
       "    </tr>\n",
       "  </thead>\n",
       "  <tbody>\n",
       "    <tr>\n",
       "      <td>0</td>\n",
       "      <td>1</td>\n",
       "      <td>60.059998</td>\n",
       "      <td>0.00000</td>\n",
       "      <td>0.0</td>\n",
       "      <td>0.0</td>\n",
       "      <td>0.0</td>\n",
       "      <td>0.0</td>\n",
       "      <td>0.0</td>\n",
       "      <td>0.0</td>\n",
       "      <td>0.0</td>\n",
       "    </tr>\n",
       "    <tr>\n",
       "      <td>1</td>\n",
       "      <td>2</td>\n",
       "      <td>96.052315</td>\n",
       "      <td>0.00000</td>\n",
       "      <td>0.0</td>\n",
       "      <td>0.0</td>\n",
       "      <td>0.0</td>\n",
       "      <td>0.0</td>\n",
       "      <td>0.0</td>\n",
       "      <td>0.0</td>\n",
       "      <td>0.0</td>\n",
       "    </tr>\n",
       "    <tr>\n",
       "      <td>2</td>\n",
       "      <td>3</td>\n",
       "      <td>91.160157</td>\n",
       "      <td>0.00000</td>\n",
       "      <td>0.0</td>\n",
       "      <td>0.0</td>\n",
       "      <td>0.0</td>\n",
       "      <td>0.0</td>\n",
       "      <td>0.0</td>\n",
       "      <td>0.0</td>\n",
       "      <td>0.0</td>\n",
       "    </tr>\n",
       "    <tr>\n",
       "      <td>3</td>\n",
       "      <td>4</td>\n",
       "      <td>89.063515</td>\n",
       "      <td>0.00000</td>\n",
       "      <td>0.0</td>\n",
       "      <td>0.0</td>\n",
       "      <td>0.0</td>\n",
       "      <td>0.0</td>\n",
       "      <td>0.0</td>\n",
       "      <td>0.0</td>\n",
       "      <td>0.0</td>\n",
       "    </tr>\n",
       "    <tr>\n",
       "      <td>4</td>\n",
       "      <td>5</td>\n",
       "      <td>89.238236</td>\n",
       "      <td>9.11456</td>\n",
       "      <td>0.0</td>\n",
       "      <td>0.0</td>\n",
       "      <td>0.0</td>\n",
       "      <td>0.0</td>\n",
       "      <td>0.0</td>\n",
       "      <td>0.0</td>\n",
       "      <td>0.0</td>\n",
       "    </tr>\n",
       "  </tbody>\n",
       "</table>\n",
       "</div>"
      ],
      "text/plain": [
       "   key     wire_1   wire_2  wire_3  wire_4  wire_5  wire_6  wire_7  wire_8  \\\n",
       "0    1  60.059998  0.00000     0.0     0.0     0.0     0.0     0.0     0.0   \n",
       "1    2  96.052315  0.00000     0.0     0.0     0.0     0.0     0.0     0.0   \n",
       "2    3  91.160157  0.00000     0.0     0.0     0.0     0.0     0.0     0.0   \n",
       "3    4  89.063515  0.00000     0.0     0.0     0.0     0.0     0.0     0.0   \n",
       "4    5  89.238236  9.11456     0.0     0.0     0.0     0.0     0.0     0.0   \n",
       "\n",
       "   wire_9  \n",
       "0     0.0  \n",
       "1     0.0  \n",
       "2     0.0  \n",
       "3     0.0  \n",
       "4     0.0  "
      ]
     },
     "execution_count": 11,
     "metadata": {},
     "output_type": "execute_result"
    }
   ],
   "source": [
    "print(data_wire.shape)\n",
    "data_wire.columns = ['key', 'wire_1', 'wire_2', 'wire_3', 'wire_4', 'wire_5', 'wire_6', 'wire_7', 'wire_8', 'wire_9']\n",
    "data_wire = data_wire.fillna(0.0)\n",
    "print(data_wire.isna().sum())\n",
    "print(data_wire.info())\n",
    "data_wire.head()"
   ]
  },
  {
   "cell_type": "markdown",
   "metadata": {},
   "source": [
    "Здесь вывожу данные о проволочных материалах (объем). Также делаю вывод размера выборки, заменяю пропущенные значения, что говорит о том, что данный вид проволочного материала не добавляли."
   ]
  },
  {
   "cell_type": "code",
   "execution_count": 12,
   "metadata": {},
   "outputs": [
    {
     "name": "stdout",
     "output_type": "stream",
     "text": [
      "(3081, 10)\n",
      "key               0\n",
      "wire_1_time      26\n",
      "wire_2_time    2002\n",
      "wire_3_time    3018\n",
      "wire_4_time    3067\n",
      "wire_5_time    3080\n",
      "wire_6_time    3008\n",
      "wire_7_time    3070\n",
      "wire_8_time    3062\n",
      "wire_9_time    3052\n",
      "dtype: int64\n",
      "<class 'pandas.core.frame.DataFrame'>\n",
      "RangeIndex: 3081 entries, 0 to 3080\n",
      "Data columns (total 10 columns):\n",
      "key            3081 non-null int64\n",
      "wire_1_time    3055 non-null datetime64[ns]\n",
      "wire_2_time    1079 non-null datetime64[ns]\n",
      "wire_3_time    63 non-null datetime64[ns]\n",
      "wire_4_time    14 non-null datetime64[ns]\n",
      "wire_5_time    1 non-null datetime64[ns]\n",
      "wire_6_time    73 non-null datetime64[ns]\n",
      "wire_7_time    11 non-null datetime64[ns]\n",
      "wire_8_time    19 non-null datetime64[ns]\n",
      "wire_9_time    29 non-null datetime64[ns]\n",
      "dtypes: datetime64[ns](9), int64(1)\n",
      "memory usage: 240.8 KB\n",
      "None\n"
     ]
    },
    {
     "data": {
      "text/html": [
       "<div>\n",
       "<style scoped>\n",
       "    .dataframe tbody tr th:only-of-type {\n",
       "        vertical-align: middle;\n",
       "    }\n",
       "\n",
       "    .dataframe tbody tr th {\n",
       "        vertical-align: top;\n",
       "    }\n",
       "\n",
       "    .dataframe thead th {\n",
       "        text-align: right;\n",
       "    }\n",
       "</style>\n",
       "<table border=\"1\" class=\"dataframe\">\n",
       "  <thead>\n",
       "    <tr style=\"text-align: right;\">\n",
       "      <th></th>\n",
       "      <th>key</th>\n",
       "      <th>wire_1_time</th>\n",
       "      <th>wire_2_time</th>\n",
       "      <th>wire_3_time</th>\n",
       "      <th>wire_4_time</th>\n",
       "      <th>wire_5_time</th>\n",
       "      <th>wire_6_time</th>\n",
       "      <th>wire_7_time</th>\n",
       "      <th>wire_8_time</th>\n",
       "      <th>wire_9_time</th>\n",
       "    </tr>\n",
       "  </thead>\n",
       "  <tbody>\n",
       "    <tr>\n",
       "      <td>0</td>\n",
       "      <td>1</td>\n",
       "      <td>2019-05-03 11:11:41</td>\n",
       "      <td>NaT</td>\n",
       "      <td>NaT</td>\n",
       "      <td>NaT</td>\n",
       "      <td>NaT</td>\n",
       "      <td>NaT</td>\n",
       "      <td>NaT</td>\n",
       "      <td>NaT</td>\n",
       "      <td>NaT</td>\n",
       "    </tr>\n",
       "    <tr>\n",
       "      <td>1</td>\n",
       "      <td>2</td>\n",
       "      <td>2019-05-03 11:46:10</td>\n",
       "      <td>NaT</td>\n",
       "      <td>NaT</td>\n",
       "      <td>NaT</td>\n",
       "      <td>NaT</td>\n",
       "      <td>NaT</td>\n",
       "      <td>NaT</td>\n",
       "      <td>NaT</td>\n",
       "      <td>NaT</td>\n",
       "    </tr>\n",
       "    <tr>\n",
       "      <td>2</td>\n",
       "      <td>3</td>\n",
       "      <td>2019-05-03 12:13:47</td>\n",
       "      <td>NaT</td>\n",
       "      <td>NaT</td>\n",
       "      <td>NaT</td>\n",
       "      <td>NaT</td>\n",
       "      <td>NaT</td>\n",
       "      <td>NaT</td>\n",
       "      <td>NaT</td>\n",
       "      <td>NaT</td>\n",
       "    </tr>\n",
       "    <tr>\n",
       "      <td>3</td>\n",
       "      <td>4</td>\n",
       "      <td>2019-05-03 12:48:05</td>\n",
       "      <td>NaT</td>\n",
       "      <td>NaT</td>\n",
       "      <td>NaT</td>\n",
       "      <td>NaT</td>\n",
       "      <td>NaT</td>\n",
       "      <td>NaT</td>\n",
       "      <td>NaT</td>\n",
       "      <td>NaT</td>\n",
       "    </tr>\n",
       "    <tr>\n",
       "      <td>4</td>\n",
       "      <td>5</td>\n",
       "      <td>2019-05-03 13:18:15</td>\n",
       "      <td>2019-05-03 13:32:06</td>\n",
       "      <td>NaT</td>\n",
       "      <td>NaT</td>\n",
       "      <td>NaT</td>\n",
       "      <td>NaT</td>\n",
       "      <td>NaT</td>\n",
       "      <td>NaT</td>\n",
       "      <td>NaT</td>\n",
       "    </tr>\n",
       "  </tbody>\n",
       "</table>\n",
       "</div>"
      ],
      "text/plain": [
       "   key         wire_1_time         wire_2_time wire_3_time wire_4_time  \\\n",
       "0    1 2019-05-03 11:11:41                 NaT         NaT         NaT   \n",
       "1    2 2019-05-03 11:46:10                 NaT         NaT         NaT   \n",
       "2    3 2019-05-03 12:13:47                 NaT         NaT         NaT   \n",
       "3    4 2019-05-03 12:48:05                 NaT         NaT         NaT   \n",
       "4    5 2019-05-03 13:18:15 2019-05-03 13:32:06         NaT         NaT   \n",
       "\n",
       "  wire_5_time wire_6_time wire_7_time wire_8_time wire_9_time  \n",
       "0         NaT         NaT         NaT         NaT         NaT  \n",
       "1         NaT         NaT         NaT         NaT         NaT  \n",
       "2         NaT         NaT         NaT         NaT         NaT  \n",
       "3         NaT         NaT         NaT         NaT         NaT  \n",
       "4         NaT         NaT         NaT         NaT         NaT  "
      ]
     },
     "execution_count": 12,
     "metadata": {},
     "output_type": "execute_result"
    }
   ],
   "source": [
    "print(data_wire_time.shape)\n",
    "data_wire_time.columns = ['key', 'wire_1_time', 'wire_2_time', 'wire_3_time', 'wire_4_time', 'wire_5_time', \n",
    "                          'wire_6_time', 'wire_7_time', 'wire_8_time', 'wire_9_time']\n",
    "\n",
    "\n",
    "\n",
    "\n",
    "data_wire_time['wire_1_time']=pd.to_datetime(data_wire_time['wire_1_time'], format='%Y.%m.%d %H:%M:%S')\n",
    "data_wire_time['wire_2_time']=pd.to_datetime(data_wire_time['wire_2_time'], format='%Y.%m.%d %H:%M:%S')\n",
    "data_wire_time['wire_3_time']=pd.to_datetime(data_wire_time['wire_3_time'], format='%Y.%m.%d %H:%M:%S')\n",
    "data_wire_time['wire_4_time']=pd.to_datetime(data_wire_time['wire_4_time'], format='%Y.%m.%d %H:%M:%S')\n",
    "data_wire_time['wire_5_time']=pd.to_datetime(data_wire_time['wire_5_time'], format='%Y.%m.%d %H:%M:%S')\n",
    "data_wire_time['wire_6_time']=pd.to_datetime(data_wire_time['wire_6_time'], format='%Y.%m.%d %H:%M:%S')\n",
    "data_wire_time['wire_7_time']=pd.to_datetime(data_wire_time['wire_7_time'], format='%Y.%m.%d %H:%M:%S')\n",
    "data_wire_time['wire_8_time']=pd.to_datetime(data_wire_time['wire_8_time'], format='%Y.%m.%d %H:%M:%S')\n",
    "data_wire_time['wire_9_time']=pd.to_datetime(data_wire_time['wire_9_time'], format='%Y.%m.%d %H:%M:%S')\n",
    "\n",
    "\n",
    "print(data_wire_time.isna().sum())\n",
    "print(data_wire_time.info())\n",
    "data_wire_time.head()"
   ]
  },
  {
   "cell_type": "markdown",
   "metadata": {},
   "source": [
    "Здесь я вывел данные о проволочных материалах(время). А также распечатал размер выборки и изменил тип данных у требующихся столбцов. Переименовал названия колонок."
   ]
  },
  {
   "cell_type": "code",
   "execution_count": 13,
   "metadata": {},
   "outputs": [
    {
     "data": {
      "text/plain": [
       "key\n",
       "1   2019-05-03 11:30:39\n",
       "2   2019-05-03 11:59:12\n",
       "3   2019-05-03 12:34:57\n",
       "4   2019-05-03 12:59:25\n",
       "5   2019-05-03 13:36:01\n",
       "Name: measurement_time, dtype: datetime64[ns]"
      ]
     },
     "execution_count": 13,
     "metadata": {},
     "output_type": "execute_result"
    }
   ],
   "source": [
    "data_pivot1 = data_temp.pivot_table(index ='key', values='measurement_time', aggfunc='last')\n",
    "time_temp_last = data_pivot1['measurement_time']\n",
    "time_temp_last.head()"
   ]
  },
  {
   "cell_type": "code",
   "execution_count": 14,
   "metadata": {},
   "outputs": [
    {
     "name": "stdout",
     "output_type": "stream",
     "text": [
      "(3216, 3)\n",
      "key                   0\n",
      "measurement_time      0\n",
      "temperature         739\n",
      "dtype: int64\n"
     ]
    },
    {
     "data": {
      "text/html": [
       "<div>\n",
       "<style scoped>\n",
       "    .dataframe tbody tr th:only-of-type {\n",
       "        vertical-align: middle;\n",
       "    }\n",
       "\n",
       "    .dataframe tbody tr th {\n",
       "        vertical-align: top;\n",
       "    }\n",
       "\n",
       "    .dataframe thead th {\n",
       "        text-align: right;\n",
       "    }\n",
       "</style>\n",
       "<table border=\"1\" class=\"dataframe\">\n",
       "  <thead>\n",
       "    <tr style=\"text-align: right;\">\n",
       "      <th></th>\n",
       "      <th>key</th>\n",
       "      <th>measurement_time_last</th>\n",
       "      <th>temperature_last</th>\n",
       "    </tr>\n",
       "  </thead>\n",
       "  <tbody>\n",
       "    <tr>\n",
       "      <td>4</td>\n",
       "      <td>1</td>\n",
       "      <td>2019-05-03 11:30:39</td>\n",
       "      <td>1613.0</td>\n",
       "    </tr>\n",
       "    <tr>\n",
       "      <td>10</td>\n",
       "      <td>2</td>\n",
       "      <td>2019-05-03 11:59:12</td>\n",
       "      <td>1602.0</td>\n",
       "    </tr>\n",
       "    <tr>\n",
       "      <td>15</td>\n",
       "      <td>3</td>\n",
       "      <td>2019-05-03 12:34:57</td>\n",
       "      <td>1599.0</td>\n",
       "    </tr>\n",
       "    <tr>\n",
       "      <td>18</td>\n",
       "      <td>4</td>\n",
       "      <td>2019-05-03 12:59:25</td>\n",
       "      <td>1625.0</td>\n",
       "    </tr>\n",
       "    <tr>\n",
       "      <td>20</td>\n",
       "      <td>5</td>\n",
       "      <td>2019-05-03 13:36:01</td>\n",
       "      <td>1602.0</td>\n",
       "    </tr>\n",
       "  </tbody>\n",
       "</table>\n",
       "</div>"
      ],
      "text/plain": [
       "    key measurement_time_last  temperature_last\n",
       "4     1   2019-05-03 11:30:39            1613.0\n",
       "10    2   2019-05-03 11:59:12            1602.0\n",
       "15    3   2019-05-03 12:34:57            1599.0\n",
       "18    4   2019-05-03 12:59:25            1625.0\n",
       "20    5   2019-05-03 13:36:01            1602.0"
      ]
     },
     "execution_count": 14,
     "metadata": {},
     "output_type": "execute_result"
    }
   ],
   "source": [
    "data_temp_last = data_temp.query('measurement_time in @time_temp_last')\n",
    "print(data_temp_last.shape)\n",
    "print(data_temp_last.isna().sum())\n",
    "data_temp_last.columns = ['key', 'measurement_time_last', 'temperature_last']\n",
    "data_temp_last.head()"
   ]
  },
  {
   "cell_type": "code",
   "execution_count": 15,
   "metadata": {},
   "outputs": [
    {
     "name": "stdout",
     "output_type": "stream",
     "text": [
      "(2477, 3)\n",
      "key                      0\n",
      "measurement_time_last    0\n",
      "temperature_last         0\n",
      "dtype: int64\n"
     ]
    }
   ],
   "source": [
    "data_temp_last = data_temp_last.dropna()\n",
    "print(data_temp_last.shape)\n",
    "print(data_temp_last.isna().sum())"
   ]
  },
  {
   "cell_type": "markdown",
   "metadata": {},
   "source": [
    "Здесь я выделил целевое значение температуры из всех данных по температуре."
   ]
  },
  {
   "cell_type": "code",
   "execution_count": 16,
   "metadata": {},
   "outputs": [
    {
     "data": {
      "text/plain": [
       "key\n",
       "1   2019-05-03 11:16:18\n",
       "2   2019-05-03 11:37:27\n",
       "3   2019-05-03 12:13:17\n",
       "4   2019-05-03 12:52:57\n",
       "5   2019-05-03 13:23:19\n",
       "Name: measurement_time, dtype: datetime64[ns]"
      ]
     },
     "execution_count": 16,
     "metadata": {},
     "output_type": "execute_result"
    }
   ],
   "source": [
    "data_pivot2 = data_temp.pivot_table(index ='key', values='measurement_time', aggfunc='first')\n",
    "time_temp_first = data_pivot2['measurement_time']\n",
    "time_temp_first.head()"
   ]
  },
  {
   "cell_type": "code",
   "execution_count": 17,
   "metadata": {},
   "outputs": [
    {
     "name": "stdout",
     "output_type": "stream",
     "text": [
      "(3216, 3)\n",
      "key                 0\n",
      "measurement_time    0\n",
      "temperature         0\n",
      "dtype: int64\n"
     ]
    },
    {
     "data": {
      "text/html": [
       "<div>\n",
       "<style scoped>\n",
       "    .dataframe tbody tr th:only-of-type {\n",
       "        vertical-align: middle;\n",
       "    }\n",
       "\n",
       "    .dataframe tbody tr th {\n",
       "        vertical-align: top;\n",
       "    }\n",
       "\n",
       "    .dataframe thead th {\n",
       "        text-align: right;\n",
       "    }\n",
       "</style>\n",
       "<table border=\"1\" class=\"dataframe\">\n",
       "  <thead>\n",
       "    <tr style=\"text-align: right;\">\n",
       "      <th></th>\n",
       "      <th>key</th>\n",
       "      <th>measurement_time_first</th>\n",
       "      <th>temperature_first</th>\n",
       "    </tr>\n",
       "  </thead>\n",
       "  <tbody>\n",
       "    <tr>\n",
       "      <td>0</td>\n",
       "      <td>1</td>\n",
       "      <td>2019-05-03 11:16:18</td>\n",
       "      <td>1571.0</td>\n",
       "    </tr>\n",
       "    <tr>\n",
       "      <td>5</td>\n",
       "      <td>2</td>\n",
       "      <td>2019-05-03 11:37:27</td>\n",
       "      <td>1581.0</td>\n",
       "    </tr>\n",
       "    <tr>\n",
       "      <td>11</td>\n",
       "      <td>3</td>\n",
       "      <td>2019-05-03 12:13:17</td>\n",
       "      <td>1596.0</td>\n",
       "    </tr>\n",
       "    <tr>\n",
       "      <td>16</td>\n",
       "      <td>4</td>\n",
       "      <td>2019-05-03 12:52:57</td>\n",
       "      <td>1601.0</td>\n",
       "    </tr>\n",
       "    <tr>\n",
       "      <td>19</td>\n",
       "      <td>5</td>\n",
       "      <td>2019-05-03 13:23:19</td>\n",
       "      <td>1576.0</td>\n",
       "    </tr>\n",
       "  </tbody>\n",
       "</table>\n",
       "</div>"
      ],
      "text/plain": [
       "    key measurement_time_first  temperature_first\n",
       "0     1    2019-05-03 11:16:18             1571.0\n",
       "5     2    2019-05-03 11:37:27             1581.0\n",
       "11    3    2019-05-03 12:13:17             1596.0\n",
       "16    4    2019-05-03 12:52:57             1601.0\n",
       "19    5    2019-05-03 13:23:19             1576.0"
      ]
     },
     "execution_count": 17,
     "metadata": {},
     "output_type": "execute_result"
    }
   ],
   "source": [
    "data_temp_first = data_temp.query('measurement_time in @time_temp_first')\n",
    "print(data_temp_first.shape)\n",
    "print(data_temp_first.isna().sum())\n",
    "data_temp_first.columns = ['key', 'measurement_time_first', 'temperature_first']\n",
    "data_temp_first.head()"
   ]
  },
  {
   "cell_type": "markdown",
   "metadata": {},
   "source": [
    "Здесь я сделал выборку по первоначальным значениям температуры."
   ]
  },
  {
   "cell_type": "code",
   "execution_count": 18,
   "metadata": {},
   "outputs": [
    {
     "data": {
      "text/plain": [
       "<matplotlib.axes._subplots.AxesSubplot at 0x7f84232ab590>"
      ]
     },
     "execution_count": 18,
     "metadata": {},
     "output_type": "execute_result"
    },
    {
     "data": {
      "image/png": "[encoded data removed]",
      "text/plain": [
       "<Figure size 432x288 with 1 Axes>"
      ]
     },
     "metadata": {
      "needs_background": "light"
     },
     "output_type": "display_data"
    }
   ],
   "source": [
    "data_temp_first['temperature_first'].plot()"
   ]
  },
  {
   "cell_type": "code",
   "execution_count": 19,
   "metadata": {},
   "outputs": [
    {
     "data": {
      "text/plain": [
       "<matplotlib.axes._subplots.AxesSubplot at 0x7f84233e1750>"
      ]
     },
     "execution_count": 19,
     "metadata": {},
     "output_type": "execute_result"
    },
    {
     "data": {
      "image/png": "[encoded data removed]",
      "text/plain": [
       "<Figure size 432x288 with 1 Axes>"
      ]
     },
     "metadata": {
      "needs_background": "light"
     },
     "output_type": "display_data"
    }
   ],
   "source": [
    "data_temp_last['temperature_last'].plot()"
   ]
  },
  {
   "cell_type": "code",
   "execution_count": 20,
   "metadata": {},
   "outputs": [
    {
     "name": "stdout",
     "output_type": "stream",
     "text": [
      "(14903, 34)\n",
      "key                          0\n",
      "start_heating_arc           27\n",
      "end_heating_arc             27\n",
      "active_power                27\n",
      "reactive_power              27\n",
      "measurement_time_first      25\n",
      "temperature_first           25\n",
      "gas_1                       10\n",
      "bulk_1                     301\n",
      "bulk_2                     301\n",
      "bulk_3                     301\n",
      "bulk_4                     301\n",
      "bulk_5                     301\n",
      "bulk_6                     301\n",
      "bulk_7                     301\n",
      "bulk_8                     301\n",
      "bulk_9                     301\n",
      "bulk_10                    301\n",
      "bulk_11                    301\n",
      "bulk_12                    301\n",
      "bulk_13                    301\n",
      "bulk_14                    301\n",
      "bulk_15                    301\n",
      "wire_1                     519\n",
      "wire_2                     519\n",
      "wire_3                     519\n",
      "wire_4                     519\n",
      "wire_5                     519\n",
      "wire_6                     519\n",
      "wire_7                     519\n",
      "wire_8                     519\n",
      "wire_9                     519\n",
      "measurement_time_last     3452\n",
      "temperature_last          3452\n",
      "dtype: int64\n"
     ]
    },
    {
     "data": {
      "text/html": [
       "<div>\n",
       "<style scoped>\n",
       "    .dataframe tbody tr th:only-of-type {\n",
       "        vertical-align: middle;\n",
       "    }\n",
       "\n",
       "    .dataframe tbody tr th {\n",
       "        vertical-align: top;\n",
       "    }\n",
       "\n",
       "    .dataframe thead th {\n",
       "        text-align: right;\n",
       "    }\n",
       "</style>\n",
       "<table border=\"1\" class=\"dataframe\">\n",
       "  <thead>\n",
       "    <tr style=\"text-align: right;\">\n",
       "      <th></th>\n",
       "      <th>key</th>\n",
       "      <th>start_heating_arc</th>\n",
       "      <th>end_heating_arc</th>\n",
       "      <th>active_power</th>\n",
       "      <th>reactive_power</th>\n",
       "      <th>measurement_time_first</th>\n",
       "      <th>temperature_first</th>\n",
       "      <th>gas_1</th>\n",
       "      <th>bulk_1</th>\n",
       "      <th>bulk_2</th>\n",
       "      <th>...</th>\n",
       "      <th>wire_2</th>\n",
       "      <th>wire_3</th>\n",
       "      <th>wire_4</th>\n",
       "      <th>wire_5</th>\n",
       "      <th>wire_6</th>\n",
       "      <th>wire_7</th>\n",
       "      <th>wire_8</th>\n",
       "      <th>wire_9</th>\n",
       "      <th>measurement_time_last</th>\n",
       "      <th>temperature_last</th>\n",
       "    </tr>\n",
       "  </thead>\n",
       "  <tbody>\n",
       "    <tr>\n",
       "      <td>0</td>\n",
       "      <td>1</td>\n",
       "      <td>2019-05-03 11:02:14</td>\n",
       "      <td>2019-05-03 11:06:02</td>\n",
       "      <td>0.976059</td>\n",
       "      <td>0.687084</td>\n",
       "      <td>2019-05-03 11:16:18</td>\n",
       "      <td>1571.0</td>\n",
       "      <td>29.749986</td>\n",
       "      <td>0.0</td>\n",
       "      <td>0.0</td>\n",
       "      <td>...</td>\n",
       "      <td>0.0</td>\n",
       "      <td>0.0</td>\n",
       "      <td>0.0</td>\n",
       "      <td>0.0</td>\n",
       "      <td>0.0</td>\n",
       "      <td>0.0</td>\n",
       "      <td>0.0</td>\n",
       "      <td>0.0</td>\n",
       "      <td>2019-05-03 11:30:39</td>\n",
       "      <td>1613.0</td>\n",
       "    </tr>\n",
       "    <tr>\n",
       "      <td>1</td>\n",
       "      <td>1</td>\n",
       "      <td>2019-05-03 11:07:28</td>\n",
       "      <td>2019-05-03 11:10:33</td>\n",
       "      <td>0.805607</td>\n",
       "      <td>0.520285</td>\n",
       "      <td>2019-05-03 11:16:18</td>\n",
       "      <td>1571.0</td>\n",
       "      <td>29.749986</td>\n",
       "      <td>0.0</td>\n",
       "      <td>0.0</td>\n",
       "      <td>...</td>\n",
       "      <td>0.0</td>\n",
       "      <td>0.0</td>\n",
       "      <td>0.0</td>\n",
       "      <td>0.0</td>\n",
       "      <td>0.0</td>\n",
       "      <td>0.0</td>\n",
       "      <td>0.0</td>\n",
       "      <td>0.0</td>\n",
       "      <td>2019-05-03 11:30:39</td>\n",
       "      <td>1613.0</td>\n",
       "    </tr>\n",
       "    <tr>\n",
       "      <td>2</td>\n",
       "      <td>1</td>\n",
       "      <td>2019-05-03 11:11:44</td>\n",
       "      <td>2019-05-03 11:14:36</td>\n",
       "      <td>0.744363</td>\n",
       "      <td>0.498805</td>\n",
       "      <td>2019-05-03 11:16:18</td>\n",
       "      <td>1571.0</td>\n",
       "      <td>29.749986</td>\n",
       "      <td>0.0</td>\n",
       "      <td>0.0</td>\n",
       "      <td>...</td>\n",
       "      <td>0.0</td>\n",
       "      <td>0.0</td>\n",
       "      <td>0.0</td>\n",
       "      <td>0.0</td>\n",
       "      <td>0.0</td>\n",
       "      <td>0.0</td>\n",
       "      <td>0.0</td>\n",
       "      <td>0.0</td>\n",
       "      <td>2019-05-03 11:30:39</td>\n",
       "      <td>1613.0</td>\n",
       "    </tr>\n",
       "    <tr>\n",
       "      <td>3</td>\n",
       "      <td>1</td>\n",
       "      <td>2019-05-03 11:18:14</td>\n",
       "      <td>2019-05-03 11:24:19</td>\n",
       "      <td>1.659363</td>\n",
       "      <td>1.062669</td>\n",
       "      <td>2019-05-03 11:16:18</td>\n",
       "      <td>1571.0</td>\n",
       "      <td>29.749986</td>\n",
       "      <td>0.0</td>\n",
       "      <td>0.0</td>\n",
       "      <td>...</td>\n",
       "      <td>0.0</td>\n",
       "      <td>0.0</td>\n",
       "      <td>0.0</td>\n",
       "      <td>0.0</td>\n",
       "      <td>0.0</td>\n",
       "      <td>0.0</td>\n",
       "      <td>0.0</td>\n",
       "      <td>0.0</td>\n",
       "      <td>2019-05-03 11:30:39</td>\n",
       "      <td>1613.0</td>\n",
       "    </tr>\n",
       "    <tr>\n",
       "      <td>4</td>\n",
       "      <td>1</td>\n",
       "      <td>2019-05-03 11:26:09</td>\n",
       "      <td>2019-05-03 11:28:37</td>\n",
       "      <td>0.692755</td>\n",
       "      <td>0.414397</td>\n",
       "      <td>2019-05-03 11:16:18</td>\n",
       "      <td>1571.0</td>\n",
       "      <td>29.749986</td>\n",
       "      <td>0.0</td>\n",
       "      <td>0.0</td>\n",
       "      <td>...</td>\n",
       "      <td>0.0</td>\n",
       "      <td>0.0</td>\n",
       "      <td>0.0</td>\n",
       "      <td>0.0</td>\n",
       "      <td>0.0</td>\n",
       "      <td>0.0</td>\n",
       "      <td>0.0</td>\n",
       "      <td>0.0</td>\n",
       "      <td>2019-05-03 11:30:39</td>\n",
       "      <td>1613.0</td>\n",
       "    </tr>\n",
       "  </tbody>\n",
       "</table>\n",
       "<p>5 rows × 34 columns</p>\n",
       "</div>"
      ],
      "text/plain": [
       "   key   start_heating_arc     end_heating_arc  active_power  reactive_power  \\\n",
       "0    1 2019-05-03 11:02:14 2019-05-03 11:06:02      0.976059        0.687084   \n",
       "1    1 2019-05-03 11:07:28 2019-05-03 11:10:33      0.805607        0.520285   \n",
       "2    1 2019-05-03 11:11:44 2019-05-03 11:14:36      0.744363        0.498805   \n",
       "3    1 2019-05-03 11:18:14 2019-05-03 11:24:19      1.659363        1.062669   \n",
       "4    1 2019-05-03 11:26:09 2019-05-03 11:28:37      0.692755        0.414397   \n",
       "\n",
       "  measurement_time_first  temperature_first      gas_1  bulk_1  bulk_2  ...  \\\n",
       "0    2019-05-03 11:16:18             1571.0  29.749986     0.0     0.0  ...   \n",
       "1    2019-05-03 11:16:18             1571.0  29.749986     0.0     0.0  ...   \n",
       "2    2019-05-03 11:16:18             1571.0  29.749986     0.0     0.0  ...   \n",
       "3    2019-05-03 11:16:18             1571.0  29.749986     0.0     0.0  ...   \n",
       "4    2019-05-03 11:16:18             1571.0  29.749986     0.0     0.0  ...   \n",
       "\n",
       "   wire_2  wire_3  wire_4  wire_5  wire_6  wire_7  wire_8  wire_9  \\\n",
       "0     0.0     0.0     0.0     0.0     0.0     0.0     0.0     0.0   \n",
       "1     0.0     0.0     0.0     0.0     0.0     0.0     0.0     0.0   \n",
       "2     0.0     0.0     0.0     0.0     0.0     0.0     0.0     0.0   \n",
       "3     0.0     0.0     0.0     0.0     0.0     0.0     0.0     0.0   \n",
       "4     0.0     0.0     0.0     0.0     0.0     0.0     0.0     0.0   \n",
       "\n",
       "   measurement_time_last  temperature_last  \n",
       "0    2019-05-03 11:30:39            1613.0  \n",
       "1    2019-05-03 11:30:39            1613.0  \n",
       "2    2019-05-03 11:30:39            1613.0  \n",
       "3    2019-05-03 11:30:39            1613.0  \n",
       "4    2019-05-03 11:30:39            1613.0  \n",
       "\n",
       "[5 rows x 34 columns]"
      ]
     },
     "execution_count": 20,
     "metadata": {},
     "output_type": "execute_result"
    }
   ],
   "source": [
    "all_data = data_arc\n",
    "all_data = all_data.merge(data_temp_first, how='outer')\n",
    "all_data = all_data.merge(data_gas, on=['key'], how='outer')\n",
    "all_data = all_data.merge(data_bulk, on=['key'], how='outer')\n",
    "all_data = all_data.merge(data_wire, on=['key'], how='outer')\n",
    "all_data = all_data.merge(data_temp_last, on=['key'], how='outer' )\n",
    "\n",
    "\n",
    "print(all_data.shape)\n",
    "print(all_data.isna().sum())\n",
    "all_data.head()"
   ]
  },
  {
   "cell_type": "markdown",
   "metadata": {},
   "source": [
    "Теперь я провел объединение всех таблиц в один большой датасет."
   ]
  },
  {
   "cell_type": "code",
   "execution_count": 21,
   "metadata": {},
   "outputs": [
    {
     "data": {
      "text/plain": [
       "<matplotlib.axes._subplots.AxesSubplot at 0x7f84233e1b90>"
      ]
     },
     "execution_count": 21,
     "metadata": {},
     "output_type": "execute_result"
    },
    {
     "data": {
      "image/png": "[encoded data removed]",
      "text/plain": [
       "<Figure size 432x288 with 1 Axes>"
      ]
     },
     "metadata": {
      "needs_background": "light"
     },
     "output_type": "display_data"
    }
   ],
   "source": [
    "all_data['gas_1'].plot()"
   ]
  },
  {
   "cell_type": "code",
   "execution_count": 22,
   "metadata": {},
   "outputs": [
    {
     "data": {
      "text/plain": [
       "<matplotlib.axes._subplots.AxesSubplot at 0x7f8423422690>"
      ]
     },
     "execution_count": 22,
     "metadata": {},
     "output_type": "execute_result"
    },
    {
     "data": {
      "image/png": "[encoded data removed]",
      "text/plain": [
       "<Figure size 432x288 with 1 Axes>"
      ]
     },
     "metadata": {
      "needs_background": "light"
     },
     "output_type": "display_data"
    }
   ],
   "source": [
    "all_data['active_power'].plot()"
   ]
  },
  {
   "cell_type": "code",
   "execution_count": 23,
   "metadata": {},
   "outputs": [
    {
     "data": {
      "text/plain": [
       "<matplotlib.axes._subplots.AxesSubplot at 0x7f842330b5d0>"
      ]
     },
     "execution_count": 23,
     "metadata": {},
     "output_type": "execute_result"
    },
    {
     "data": {
      "image/png": "[encoded data removed]",
      "text/plain": [
       "<Figure size 432x288 with 1 Axes>"
      ]
     },
     "metadata": {
      "needs_background": "light"
     },
     "output_type": "display_data"
    }
   ],
   "source": [
    "all_data['reactive_power'].plot()"
   ]
  },
  {
   "cell_type": "code",
   "execution_count": 24,
   "metadata": {},
   "outputs": [
    {
     "data": {
      "text/plain": [
       "<matplotlib.axes._subplots.AxesSubplot at 0x7f8422fb1b50>"
      ]
     },
     "execution_count": 24,
     "metadata": {},
     "output_type": "execute_result"
    },
    {
     "data": {
      "image/png": "[encoded data removed]",
      "text/plain": [
       "<Figure size 432x288 with 1 Axes>"
      ]
     },
     "metadata": {
      "needs_background": "light"
     },
     "output_type": "display_data"
    }
   ],
   "source": [
    "all_data.boxplot(column='reactive_power')"
   ]
  },
  {
   "cell_type": "code",
   "execution_count": 25,
   "metadata": {},
   "outputs": [
    {
     "data": {
      "text/plain": [
       "<matplotlib.axes._subplots.AxesSubplot at 0x7f8422f28090>"
      ]
     },
     "execution_count": 25,
     "metadata": {},
     "output_type": "execute_result"
    },
    {
     "data": {
      "image/png": "[encoded data removed]",
      "text/plain": [
       "<Figure size 432x288 with 1 Axes>"
      ]
     },
     "metadata": {
      "needs_background": "light"
     },
     "output_type": "display_data"
    }
   ],
   "source": [
    "all_data = all_data.query('reactive_power < 10')\n",
    "all_data['reactive_power'].plot()"
   ]
  },
  {
   "cell_type": "code",
   "execution_count": 26,
   "metadata": {},
   "outputs": [
    {
     "data": {
      "text/plain": [
       "<matplotlib.axes._subplots.AxesSubplot at 0x7f8422ea4250>"
      ]
     },
     "execution_count": 26,
     "metadata": {},
     "output_type": "execute_result"
    },
    {
     "data": {
      "image/png": "[encoded data removed]",
      "text/plain": [
       "<Figure size 432x288 with 1 Axes>"
      ]
     },
     "metadata": {
      "needs_background": "light"
     },
     "output_type": "display_data"
    }
   ],
   "source": [
    "all_data.boxplot(column='reactive_power')"
   ]
  },
  {
   "cell_type": "markdown",
   "metadata": {},
   "source": [
    "Теперь же аномалия в данных по реактивной мощности не наблюдается"
   ]
  },
  {
   "cell_type": "code",
   "execution_count": 27,
   "metadata": {},
   "outputs": [
    {
     "data": {
      "text/plain": [
       "key                       0\n",
       "start_heating_arc         0\n",
       "end_heating_arc           0\n",
       "active_power              0\n",
       "reactive_power            0\n",
       "measurement_time_first    0\n",
       "temperature_first         0\n",
       "gas_1                     0\n",
       "bulk_1                    0\n",
       "bulk_2                    0\n",
       "bulk_3                    0\n",
       "bulk_4                    0\n",
       "bulk_5                    0\n",
       "bulk_6                    0\n",
       "bulk_7                    0\n",
       "bulk_8                    0\n",
       "bulk_9                    0\n",
       "bulk_10                   0\n",
       "bulk_11                   0\n",
       "bulk_12                   0\n",
       "bulk_13                   0\n",
       "bulk_14                   0\n",
       "bulk_15                   0\n",
       "wire_1                    0\n",
       "wire_2                    0\n",
       "wire_3                    0\n",
       "wire_4                    0\n",
       "wire_5                    0\n",
       "wire_6                    0\n",
       "wire_7                    0\n",
       "wire_8                    0\n",
       "wire_9                    0\n",
       "measurement_time_last     0\n",
       "temperature_last          0\n",
       "dtype: int64"
      ]
     },
     "execution_count": 27,
     "metadata": {},
     "output_type": "execute_result"
    }
   ],
   "source": [
    "all_data = all_data.dropna()\n",
    "all_data.isna().sum()"
   ]
  },
  {
   "cell_type": "markdown",
   "metadata": {},
   "source": [
    "На данном шаге я удаляю все пропущенные значения в датасете, так как их удаление не повлияет сильно на весь датасет."
   ]
  },
  {
   "cell_type": "code",
   "execution_count": 28,
   "metadata": {},
   "outputs": [],
   "source": [
    "all_data['full_power'] = (all_data['active_power'] ** 2 + all_data['reactive_power'] ** 2) ** 0.5"
   ]
  },
  {
   "cell_type": "code",
   "execution_count": 29,
   "metadata": {},
   "outputs": [
    {
     "data": {
      "text/html": [
       "<div>\n",
       "<style scoped>\n",
       "    .dataframe tbody tr th:only-of-type {\n",
       "        vertical-align: middle;\n",
       "    }\n",
       "\n",
       "    .dataframe tbody tr th {\n",
       "        vertical-align: top;\n",
       "    }\n",
       "\n",
       "    .dataframe thead th {\n",
       "        text-align: right;\n",
       "    }\n",
       "</style>\n",
       "<table border=\"1\" class=\"dataframe\">\n",
       "  <thead>\n",
       "    <tr style=\"text-align: right;\">\n",
       "      <th></th>\n",
       "      <th>key</th>\n",
       "      <th>start_heating_arc</th>\n",
       "      <th>end_heating_arc</th>\n",
       "      <th>active_power</th>\n",
       "      <th>reactive_power</th>\n",
       "      <th>measurement_time_first</th>\n",
       "      <th>temperature_first</th>\n",
       "      <th>gas_1</th>\n",
       "      <th>bulk_1</th>\n",
       "      <th>bulk_2</th>\n",
       "      <th>...</th>\n",
       "      <th>wire_3</th>\n",
       "      <th>wire_4</th>\n",
       "      <th>wire_5</th>\n",
       "      <th>wire_6</th>\n",
       "      <th>wire_7</th>\n",
       "      <th>wire_8</th>\n",
       "      <th>wire_9</th>\n",
       "      <th>measurement_time_last</th>\n",
       "      <th>temperature_last</th>\n",
       "      <th>full_power</th>\n",
       "    </tr>\n",
       "  </thead>\n",
       "  <tbody>\n",
       "    <tr>\n",
       "      <td>0</td>\n",
       "      <td>1</td>\n",
       "      <td>2019-05-03 11:02:14</td>\n",
       "      <td>2019-05-03 11:06:02</td>\n",
       "      <td>0.976059</td>\n",
       "      <td>0.687084</td>\n",
       "      <td>2019-05-03 11:16:18</td>\n",
       "      <td>1571.0</td>\n",
       "      <td>29.749986</td>\n",
       "      <td>0.0</td>\n",
       "      <td>0.0</td>\n",
       "      <td>...</td>\n",
       "      <td>0.0</td>\n",
       "      <td>0.0</td>\n",
       "      <td>0.0</td>\n",
       "      <td>0.0</td>\n",
       "      <td>0.0</td>\n",
       "      <td>0.0</td>\n",
       "      <td>0.0</td>\n",
       "      <td>2019-05-03 11:30:39</td>\n",
       "      <td>1613.0</td>\n",
       "      <td>1.193639</td>\n",
       "    </tr>\n",
       "    <tr>\n",
       "      <td>1</td>\n",
       "      <td>1</td>\n",
       "      <td>2019-05-03 11:07:28</td>\n",
       "      <td>2019-05-03 11:10:33</td>\n",
       "      <td>0.805607</td>\n",
       "      <td>0.520285</td>\n",
       "      <td>2019-05-03 11:16:18</td>\n",
       "      <td>1571.0</td>\n",
       "      <td>29.749986</td>\n",
       "      <td>0.0</td>\n",
       "      <td>0.0</td>\n",
       "      <td>...</td>\n",
       "      <td>0.0</td>\n",
       "      <td>0.0</td>\n",
       "      <td>0.0</td>\n",
       "      <td>0.0</td>\n",
       "      <td>0.0</td>\n",
       "      <td>0.0</td>\n",
       "      <td>0.0</td>\n",
       "      <td>2019-05-03 11:30:39</td>\n",
       "      <td>1613.0</td>\n",
       "      <td>0.959010</td>\n",
       "    </tr>\n",
       "    <tr>\n",
       "      <td>2</td>\n",
       "      <td>1</td>\n",
       "      <td>2019-05-03 11:11:44</td>\n",
       "      <td>2019-05-03 11:14:36</td>\n",
       "      <td>0.744363</td>\n",
       "      <td>0.498805</td>\n",
       "      <td>2019-05-03 11:16:18</td>\n",
       "      <td>1571.0</td>\n",
       "      <td>29.749986</td>\n",
       "      <td>0.0</td>\n",
       "      <td>0.0</td>\n",
       "      <td>...</td>\n",
       "      <td>0.0</td>\n",
       "      <td>0.0</td>\n",
       "      <td>0.0</td>\n",
       "      <td>0.0</td>\n",
       "      <td>0.0</td>\n",
       "      <td>0.0</td>\n",
       "      <td>0.0</td>\n",
       "      <td>2019-05-03 11:30:39</td>\n",
       "      <td>1613.0</td>\n",
       "      <td>0.896038</td>\n",
       "    </tr>\n",
       "    <tr>\n",
       "      <td>3</td>\n",
       "      <td>1</td>\n",
       "      <td>2019-05-03 11:18:14</td>\n",
       "      <td>2019-05-03 11:24:19</td>\n",
       "      <td>1.659363</td>\n",
       "      <td>1.062669</td>\n",
       "      <td>2019-05-03 11:16:18</td>\n",
       "      <td>1571.0</td>\n",
       "      <td>29.749986</td>\n",
       "      <td>0.0</td>\n",
       "      <td>0.0</td>\n",
       "      <td>...</td>\n",
       "      <td>0.0</td>\n",
       "      <td>0.0</td>\n",
       "      <td>0.0</td>\n",
       "      <td>0.0</td>\n",
       "      <td>0.0</td>\n",
       "      <td>0.0</td>\n",
       "      <td>0.0</td>\n",
       "      <td>2019-05-03 11:30:39</td>\n",
       "      <td>1613.0</td>\n",
       "      <td>1.970470</td>\n",
       "    </tr>\n",
       "    <tr>\n",
       "      <td>4</td>\n",
       "      <td>1</td>\n",
       "      <td>2019-05-03 11:26:09</td>\n",
       "      <td>2019-05-03 11:28:37</td>\n",
       "      <td>0.692755</td>\n",
       "      <td>0.414397</td>\n",
       "      <td>2019-05-03 11:16:18</td>\n",
       "      <td>1571.0</td>\n",
       "      <td>29.749986</td>\n",
       "      <td>0.0</td>\n",
       "      <td>0.0</td>\n",
       "      <td>...</td>\n",
       "      <td>0.0</td>\n",
       "      <td>0.0</td>\n",
       "      <td>0.0</td>\n",
       "      <td>0.0</td>\n",
       "      <td>0.0</td>\n",
       "      <td>0.0</td>\n",
       "      <td>0.0</td>\n",
       "      <td>2019-05-03 11:30:39</td>\n",
       "      <td>1613.0</td>\n",
       "      <td>0.807239</td>\n",
       "    </tr>\n",
       "  </tbody>\n",
       "</table>\n",
       "<p>5 rows × 35 columns</p>\n",
       "</div>"
      ],
      "text/plain": [
       "   key   start_heating_arc     end_heating_arc  active_power  reactive_power  \\\n",
       "0    1 2019-05-03 11:02:14 2019-05-03 11:06:02      0.976059        0.687084   \n",
       "1    1 2019-05-03 11:07:28 2019-05-03 11:10:33      0.805607        0.520285   \n",
       "2    1 2019-05-03 11:11:44 2019-05-03 11:14:36      0.744363        0.498805   \n",
       "3    1 2019-05-03 11:18:14 2019-05-03 11:24:19      1.659363        1.062669   \n",
       "4    1 2019-05-03 11:26:09 2019-05-03 11:28:37      0.692755        0.414397   \n",
       "\n",
       "  measurement_time_first  temperature_first      gas_1  bulk_1  bulk_2  ...  \\\n",
       "0    2019-05-03 11:16:18             1571.0  29.749986     0.0     0.0  ...   \n",
       "1    2019-05-03 11:16:18             1571.0  29.749986     0.0     0.0  ...   \n",
       "2    2019-05-03 11:16:18             1571.0  29.749986     0.0     0.0  ...   \n",
       "3    2019-05-03 11:16:18             1571.0  29.749986     0.0     0.0  ...   \n",
       "4    2019-05-03 11:16:18             1571.0  29.749986     0.0     0.0  ...   \n",
       "\n",
       "   wire_3  wire_4  wire_5  wire_6  wire_7  wire_8  wire_9  \\\n",
       "0     0.0     0.0     0.0     0.0     0.0     0.0     0.0   \n",
       "1     0.0     0.0     0.0     0.0     0.0     0.0     0.0   \n",
       "2     0.0     0.0     0.0     0.0     0.0     0.0     0.0   \n",
       "3     0.0     0.0     0.0     0.0     0.0     0.0     0.0   \n",
       "4     0.0     0.0     0.0     0.0     0.0     0.0     0.0   \n",
       "\n",
       "   measurement_time_last  temperature_last  full_power  \n",
       "0    2019-05-03 11:30:39            1613.0    1.193639  \n",
       "1    2019-05-03 11:30:39            1613.0    0.959010  \n",
       "2    2019-05-03 11:30:39            1613.0    0.896038  \n",
       "3    2019-05-03 11:30:39            1613.0    1.970470  \n",
       "4    2019-05-03 11:30:39            1613.0    0.807239  \n",
       "\n",
       "[5 rows x 35 columns]"
      ]
     },
     "execution_count": 29,
     "metadata": {},
     "output_type": "execute_result"
    }
   ],
   "source": [
    "all_data.head()"
   ]
  },
  {
   "cell_type": "markdown",
   "metadata": {},
   "source": [
    "Здесь я вычесляю полную мощность и добавляю ее к остальным данным."
   ]
  },
  {
   "cell_type": "code",
   "execution_count": 30,
   "metadata": {},
   "outputs": [
    {
     "data": {
      "text/html": [
       "<div>\n",
       "<style scoped>\n",
       "    .dataframe tbody tr th:only-of-type {\n",
       "        vertical-align: middle;\n",
       "    }\n",
       "\n",
       "    .dataframe tbody tr th {\n",
       "        vertical-align: top;\n",
       "    }\n",
       "\n",
       "    .dataframe thead th {\n",
       "        text-align: right;\n",
       "    }\n",
       "</style>\n",
       "<table border=\"1\" class=\"dataframe\">\n",
       "  <thead>\n",
       "    <tr style=\"text-align: right;\">\n",
       "      <th></th>\n",
       "      <th>key</th>\n",
       "      <th>active_power</th>\n",
       "      <th>reactive_power</th>\n",
       "      <th>temperature_first</th>\n",
       "      <th>gas_1</th>\n",
       "      <th>bulk_1</th>\n",
       "      <th>bulk_2</th>\n",
       "      <th>bulk_3</th>\n",
       "      <th>bulk_4</th>\n",
       "      <th>bulk_5</th>\n",
       "      <th>...</th>\n",
       "      <th>wire_2</th>\n",
       "      <th>wire_3</th>\n",
       "      <th>wire_4</th>\n",
       "      <th>wire_5</th>\n",
       "      <th>wire_6</th>\n",
       "      <th>wire_7</th>\n",
       "      <th>wire_8</th>\n",
       "      <th>wire_9</th>\n",
       "      <th>temperature_last</th>\n",
       "      <th>full_power</th>\n",
       "    </tr>\n",
       "  </thead>\n",
       "  <tbody>\n",
       "    <tr>\n",
       "      <td>0</td>\n",
       "      <td>1</td>\n",
       "      <td>0.976059</td>\n",
       "      <td>0.687084</td>\n",
       "      <td>1571.0</td>\n",
       "      <td>29.749986</td>\n",
       "      <td>0.0</td>\n",
       "      <td>0.0</td>\n",
       "      <td>0.0</td>\n",
       "      <td>43.0</td>\n",
       "      <td>0.0</td>\n",
       "      <td>...</td>\n",
       "      <td>0.0</td>\n",
       "      <td>0.0</td>\n",
       "      <td>0.0</td>\n",
       "      <td>0.0</td>\n",
       "      <td>0.0</td>\n",
       "      <td>0.0</td>\n",
       "      <td>0.0</td>\n",
       "      <td>0.0</td>\n",
       "      <td>1613.0</td>\n",
       "      <td>1.193639</td>\n",
       "    </tr>\n",
       "    <tr>\n",
       "      <td>1</td>\n",
       "      <td>1</td>\n",
       "      <td>0.805607</td>\n",
       "      <td>0.520285</td>\n",
       "      <td>1571.0</td>\n",
       "      <td>29.749986</td>\n",
       "      <td>0.0</td>\n",
       "      <td>0.0</td>\n",
       "      <td>0.0</td>\n",
       "      <td>43.0</td>\n",
       "      <td>0.0</td>\n",
       "      <td>...</td>\n",
       "      <td>0.0</td>\n",
       "      <td>0.0</td>\n",
       "      <td>0.0</td>\n",
       "      <td>0.0</td>\n",
       "      <td>0.0</td>\n",
       "      <td>0.0</td>\n",
       "      <td>0.0</td>\n",
       "      <td>0.0</td>\n",
       "      <td>1613.0</td>\n",
       "      <td>0.959010</td>\n",
       "    </tr>\n",
       "    <tr>\n",
       "      <td>2</td>\n",
       "      <td>1</td>\n",
       "      <td>0.744363</td>\n",
       "      <td>0.498805</td>\n",
       "      <td>1571.0</td>\n",
       "      <td>29.749986</td>\n",
       "      <td>0.0</td>\n",
       "      <td>0.0</td>\n",
       "      <td>0.0</td>\n",
       "      <td>43.0</td>\n",
       "      <td>0.0</td>\n",
       "      <td>...</td>\n",
       "      <td>0.0</td>\n",
       "      <td>0.0</td>\n",
       "      <td>0.0</td>\n",
       "      <td>0.0</td>\n",
       "      <td>0.0</td>\n",
       "      <td>0.0</td>\n",
       "      <td>0.0</td>\n",
       "      <td>0.0</td>\n",
       "      <td>1613.0</td>\n",
       "      <td>0.896038</td>\n",
       "    </tr>\n",
       "    <tr>\n",
       "      <td>3</td>\n",
       "      <td>1</td>\n",
       "      <td>1.659363</td>\n",
       "      <td>1.062669</td>\n",
       "      <td>1571.0</td>\n",
       "      <td>29.749986</td>\n",
       "      <td>0.0</td>\n",
       "      <td>0.0</td>\n",
       "      <td>0.0</td>\n",
       "      <td>43.0</td>\n",
       "      <td>0.0</td>\n",
       "      <td>...</td>\n",
       "      <td>0.0</td>\n",
       "      <td>0.0</td>\n",
       "      <td>0.0</td>\n",
       "      <td>0.0</td>\n",
       "      <td>0.0</td>\n",
       "      <td>0.0</td>\n",
       "      <td>0.0</td>\n",
       "      <td>0.0</td>\n",
       "      <td>1613.0</td>\n",
       "      <td>1.970470</td>\n",
       "    </tr>\n",
       "    <tr>\n",
       "      <td>4</td>\n",
       "      <td>1</td>\n",
       "      <td>0.692755</td>\n",
       "      <td>0.414397</td>\n",
       "      <td>1571.0</td>\n",
       "      <td>29.749986</td>\n",
       "      <td>0.0</td>\n",
       "      <td>0.0</td>\n",
       "      <td>0.0</td>\n",
       "      <td>43.0</td>\n",
       "      <td>0.0</td>\n",
       "      <td>...</td>\n",
       "      <td>0.0</td>\n",
       "      <td>0.0</td>\n",
       "      <td>0.0</td>\n",
       "      <td>0.0</td>\n",
       "      <td>0.0</td>\n",
       "      <td>0.0</td>\n",
       "      <td>0.0</td>\n",
       "      <td>0.0</td>\n",
       "      <td>1613.0</td>\n",
       "      <td>0.807239</td>\n",
       "    </tr>\n",
       "  </tbody>\n",
       "</table>\n",
       "<p>5 rows × 31 columns</p>\n",
       "</div>"
      ],
      "text/plain": [
       "   key  active_power  reactive_power  temperature_first      gas_1  bulk_1  \\\n",
       "0    1      0.976059        0.687084             1571.0  29.749986     0.0   \n",
       "1    1      0.805607        0.520285             1571.0  29.749986     0.0   \n",
       "2    1      0.744363        0.498805             1571.0  29.749986     0.0   \n",
       "3    1      1.659363        1.062669             1571.0  29.749986     0.0   \n",
       "4    1      0.692755        0.414397             1571.0  29.749986     0.0   \n",
       "\n",
       "   bulk_2  bulk_3  bulk_4  bulk_5  ...  wire_2  wire_3  wire_4  wire_5  \\\n",
       "0     0.0     0.0    43.0     0.0  ...     0.0     0.0     0.0     0.0   \n",
       "1     0.0     0.0    43.0     0.0  ...     0.0     0.0     0.0     0.0   \n",
       "2     0.0     0.0    43.0     0.0  ...     0.0     0.0     0.0     0.0   \n",
       "3     0.0     0.0    43.0     0.0  ...     0.0     0.0     0.0     0.0   \n",
       "4     0.0     0.0    43.0     0.0  ...     0.0     0.0     0.0     0.0   \n",
       "\n",
       "   wire_6  wire_7  wire_8  wire_9  temperature_last  full_power  \n",
       "0     0.0     0.0     0.0     0.0            1613.0    1.193639  \n",
       "1     0.0     0.0     0.0     0.0            1613.0    0.959010  \n",
       "2     0.0     0.0     0.0     0.0            1613.0    0.896038  \n",
       "3     0.0     0.0     0.0     0.0            1613.0    1.970470  \n",
       "4     0.0     0.0     0.0     0.0            1613.0    0.807239  \n",
       "\n",
       "[5 rows x 31 columns]"
      ]
     },
     "execution_count": 30,
     "metadata": {},
     "output_type": "execute_result"
    }
   ],
   "source": [
    "all_data = all_data.drop(['start_heating_arc', 'end_heating_arc', 'measurement_time_first', 'measurement_time_last'], axis=1)\n",
    "\n",
    "all_data.head()"
   ]
  },
  {
   "cell_type": "markdown",
   "metadata": {},
   "source": [
    "Теперь я удаляю все колонки, которые содержат дату и время."
   ]
  },
  {
   "cell_type": "markdown",
   "metadata": {},
   "source": [
    "# Подготвка данных для обучения моделей"
   ]
  },
  {
   "cell_type": "code",
   "execution_count": 31,
   "metadata": {},
   "outputs": [
    {
     "name": "stdout",
     "output_type": "stream",
     "text": [
      "(2187, 30)\n",
      "(2187,)\n"
     ]
    }
   ],
   "source": [
    "df_1, data_test = train_test_split(all_data, test_size = 0.2, random_state=12345)\n",
    "\n",
    "features_test = data_test.drop(['temperature_last'], axis=1)\n",
    "target_test = data_test['temperature_last']\n",
    "print(features_test.shape)\n",
    "print(target_test.shape)"
   ]
  },
  {
   "cell_type": "code",
   "execution_count": 32,
   "metadata": {},
   "outputs": [
    {
     "name": "stdout",
     "output_type": "stream",
     "text": [
      "(6998, 30)\n",
      "(6998,)\n",
      "(1750, 30)\n",
      "(1750,)\n"
     ]
    }
   ],
   "source": [
    "data_train, data_valid = train_test_split(df_1, test_size=0.2, random_state=12345)\n",
    "\n",
    "features_train = data_train.drop(['temperature_last'], axis=1)\n",
    "target_train = data_train['temperature_last']\n",
    "features_valid = data_valid.drop(['temperature_last'], axis=1)\n",
    "target_valid = data_valid['temperature_last']\n",
    "\n",
    "print(features_train.shape)\n",
    "print(target_train.shape)\n",
    "print(features_valid.shape)\n",
    "print(target_valid.shape)"
   ]
  },
  {
   "cell_type": "markdown",
   "metadata": {},
   "source": [
    "Здесь я разбил данные на тестовую, тренеровочную и валидационную выборки, а также выделил целевое значение для них."
   ]
  },
  {
   "cell_type": "markdown",
   "metadata": {},
   "source": [
    "## Обучение моделей"
   ]
  },
  {
   "cell_type": "markdown",
   "metadata": {},
   "source": [
    "### Модель Линейной регрессии"
   ]
  },
  {
   "cell_type": "code",
   "execution_count": 33,
   "metadata": {},
   "outputs": [
    {
     "name": "stdout",
     "output_type": "stream",
     "text": [
      "MAE:  7.515142925684373\n"
     ]
    }
   ],
   "source": [
    "model = LinearRegression()\n",
    "model.fit(features_train, target_train)\n",
    "pred_valid = model.predict(features_valid)\n",
    "\n",
    "mae = mean_absolute_error(pred_valid, target_valid)\n",
    "\n",
    "print('MAE: ', mae)"
   ]
  },
  {
   "cell_type": "markdown",
   "metadata": {},
   "source": [
    "Значение метрики на модели линейной регрессии получилось равным 7.515142925684373."
   ]
  },
  {
   "cell_type": "markdown",
   "metadata": {},
   "source": [
    "### Модель Логистической регрессии"
   ]
  },
  {
   "cell_type": "code",
   "execution_count": 34,
   "metadata": {},
   "outputs": [
    {
     "name": "stderr",
     "output_type": "stream",
     "text": [
      "/opt/conda/lib/python3.7/site-packages/sklearn/linear_model/logistic.py:432: FutureWarning: Default solver will be changed to 'lbfgs' in 0.22. Specify a solver to silence this warning.\n",
      "  FutureWarning)\n",
      "/opt/conda/lib/python3.7/site-packages/sklearn/linear_model/logistic.py:469: FutureWarning: Default multi_class will be changed to 'auto' in 0.22. Specify the multi_class option to silence this warning.\n",
      "  \"this warning.\", FutureWarning)\n"
     ]
    },
    {
     "name": "stdout",
     "output_type": "stream",
     "text": [
      "MAE:  7.978285714285715\n"
     ]
    }
   ],
   "source": [
    "model = LogisticRegression()\n",
    "model.fit(features_train, target_train)\n",
    "pred_valid = model.predict(features_valid)\n",
    "\n",
    "mae = mean_absolute_error(pred_valid, target_valid)\n",
    "\n",
    "print('MAE: ', mae)"
   ]
  },
  {
   "cell_type": "markdown",
   "metadata": {},
   "source": [
    "Значение метрики на модели логистической регрессии регрессии получилось равным 7.978285714285715. "
   ]
  },
  {
   "cell_type": "markdown",
   "metadata": {},
   "source": [
    "### Модель LightGBM"
   ]
  },
  {
   "cell_type": "code",
   "execution_count": 35,
   "metadata": {},
   "outputs": [
    {
     "data": {
      "text/plain": [
       "LGBMRegressor(boosting_type='gbdt', class_weight=None, colsample_bytree=1.0,\n",
       "              importance_type='split', learning_rate=0.1, max_depth=-1,\n",
       "              min_child_samples=20, min_child_weight=0.001, min_split_gain=0.0,\n",
       "              n_estimators=100, n_jobs=-1, num_leaves=31, objective=None,\n",
       "              random_state=None, reg_alpha=0.0, reg_lambda=0.0, silent=True,\n",
       "              subsample=1.0, subsample_for_bin=200000, subsample_freq=0)"
      ]
     },
     "execution_count": 35,
     "metadata": {},
     "output_type": "execute_result"
    }
   ],
   "source": [
    "model_lgb = lgb.LGBMRegressor()\n",
    "model_lgb.fit(features_train, target_train)"
   ]
  },
  {
   "cell_type": "code",
   "execution_count": 36,
   "metadata": {},
   "outputs": [
    {
     "name": "stdout",
     "output_type": "stream",
     "text": [
      "MAE:  4.18871161880176\n"
     ]
    }
   ],
   "source": [
    "pred_valid = model_lgb.predict(features_valid)\n",
    "\n",
    "mae = mean_absolute_error(pred_valid, target_valid)\n",
    "\n",
    "print('MAE: ', mae)"
   ]
  },
  {
   "cell_type": "markdown",
   "metadata": {},
   "source": [
    "Значение метрики на модели логистической регрессии регрессии получилось равным 4.18871161880176. Это значение достаточно низкое, следовательно данную модель можно рассматривать для получения предсказаний на тестовой выборке."
   ]
  },
  {
   "cell_type": "markdown",
   "metadata": {},
   "source": [
    "### Модель CatBoost"
   ]
  },
  {
   "cell_type": "code",
   "execution_count": 37,
   "metadata": {},
   "outputs": [
    {
     "name": "stdout",
     "output_type": "stream",
     "text": [
      "0:\tlearn: 11.5961485\ttotal: 51.6ms\tremaining: 10.3s\n",
      "50:\tlearn: 9.3556803\ttotal: 1.46s\tremaining: 4.26s\n",
      "100:\tlearn: 8.6312211\ttotal: 2.93s\tremaining: 2.87s\n",
      "150:\tlearn: 8.2557854\ttotal: 5.01s\tremaining: 1.63s\n",
      "199:\tlearn: 7.9748576\ttotal: 6.6s\tremaining: 0us\n",
      "MAE:  6.5309172367199695\n"
     ]
    }
   ],
   "source": [
    "model_cat = CatBoostRegressor(iterations = 200)\n",
    "model_cat.fit(features_train, target_train, verbose=50)\n",
    "\n",
    "pred_valid = model_cat.predict(features_valid)\n",
    "\n",
    "mae = mean_absolute_error(pred_valid, target_valid)\n",
    "\n",
    "print('MAE: ', mae)"
   ]
  },
  {
   "cell_type": "markdown",
   "metadata": {},
   "source": [
    "Значение метрики на модели логистической регрессии регрессии получилось равным 6.5309172367199695. Это значение достаточно низкое, следовательно данную модель можно рассматривать для получения предсказаний на тестовой выборке."
   ]
  },
  {
   "cell_type": "markdown",
   "metadata": {},
   "source": [
    "### Вывод:"
   ]
  },
  {
   "cell_type": "markdown",
   "metadata": {},
   "source": [
    "Самое низкое значение метрики MAE получилось на модели LightGBM равное 3.907133365005662, следовательно на тестовой выборке будем использовать данную модель, также она обучается и делает предсказания быстрее, чем модель CatBoost."
   ]
  },
  {
   "cell_type": "markdown",
   "metadata": {},
   "source": [
    "## Оценка качества на тестовой выборке моделью LightGBM"
   ]
  },
  {
   "cell_type": "code",
   "execution_count": 38,
   "metadata": {},
   "outputs": [
    {
     "name": "stdout",
     "output_type": "stream",
     "text": [
      "MAE:  4.311087215557099\n"
     ]
    }
   ],
   "source": [
    "pred_test = model_lgb.predict(features_test)\n",
    "\n",
    "mae = mean_absolute_error(pred_test, target_test)\n",
    "\n",
    "print('MAE: ', mae)"
   ]
  },
  {
   "cell_type": "markdown",
   "metadata": {},
   "source": [
    "Значение метрики оказалось таким же низким. MAE = 4.311087215557099, следовательно модель LightGBM подходит для предсказания целевого признака в данном проекте. Таким образом, для предсказания температуры в металлургической компании данная модель подходит."
   ]
  },
  {
   "cell_type": "code",
   "execution_count": null,
   "metadata": {},
   "outputs": [],
   "source": []
  }
 ],
 "metadata": {
  "kernelspec": {
   "display_name": "Python 3",
   "language": "python",
   "name": "python3"
  },
  "language_info": {
   "codemirror_mode": {
    "name": "ipython",
    "version": 3
   },
   "file_extension": ".py",
   "mimetype": "text/x-python",
   "name": "python",
   "nbconvert_exporter": "python",
   "pygments_lexer": "ipython3",
   "version": "3.7.4"
  }
 },
 "nbformat": 4,
 "nbformat_minor": 2
}
